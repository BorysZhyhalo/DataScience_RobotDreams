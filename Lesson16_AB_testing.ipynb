{
  "cells": [
    {
      "cell_type": "markdown",
      "metadata": {
        "id": "view-in-github",
        "colab_type": "text"
      },
      "source": [
        "<a href=\"https://colab.research.google.com/github/BorysZhyhalo/DataScience_RobotDreams/blob/main/Lesson16_AB_testing.ipynb\" target=\"_parent\"><img src=\"https://colab.research.google.com/assets/colab-badge.svg\" alt=\"Open In Colab\"/></a>"
      ]
    },
    {
      "cell_type": "markdown",
      "metadata": {
        "id": "cLwUQnQzIr6K"
      },
      "source": [
        "# A/B testing: A step-by-step guide in Python"
      ]
    },
    {
      "cell_type": "markdown",
      "metadata": {
        "id": "7JSWDz5EIr6M"
      },
      "source": [
        "\n",
        "Розглянемо процес аналізу A / B-теста від формування гіпотези, її перевірки і інтерпретації результатів. В якості даних будемо використовувати <a href='https://www.kaggle.com/zhangluyuan/ab-testing?select=ab_data.csv'>набір даних з Kaggle</a>, який містить результати A/B-теста двух різних дизайнів сторінки веб-сайта (old_page и new_page).\n",
        "Наш план:\n",
        "\n",
        "1. Дизайн експерименту\n",
        "2. Збір і підготовка даних\n",
        "3. Візуалізація результатів\n",
        "4. Тестування гіпотези\n",
        "5. Висновки\n",
        "\n",
        "\n",
        "> Для більшої реалістичності уявимо ситуацію. Ви працюєте в онлайн-магазині. Дизайнер UX розробив нову версію сторінки продукта, сподіваючись, що це призведе до більшої конверсії покупок. Менеджер по продукту (PM) сказав вам, що поточний рівень конверсії в середньому 13% протягом року, і команда буде задоволена, якщо цей показник збільшиться на 2%. Це означає, що новий дизайн вважатиметься успішним, якщо коефіцієнт конверсії зросте до 15%.\n",
        "\n",
        "> Для того, щоб прийняти рішення про запуск нового дизайну, спочатку вартує протестувати ефект на невеликій кількості користувачів і виконати A/B тестування.\n",
        "\n"
      ]
    },
    {
      "cell_type": "markdown",
      "metadata": {
        "id": "YqHjqHCNIr6N"
      },
      "source": [
        "## 1. Дизайн експерименту"
      ]
    },
    {
      "cell_type": "markdown",
      "metadata": {
        "id": "nIrGqvWcIr6N"
      },
      "source": [
        "### Формулювання гіпотези\n",
        "\n",
        "Оскільки ми не знаємо краще чи гірше працюватиме новий дизайн, оберемо <a href=\"https://en.wikipedia.org/wiki/One-_and_two-tailed_tests\">**двухсторонній  тест**</a>:\n",
        "\n",
        "$$H_0: p = p_0$$\n",
        "$$H_a: p \\ne p_0$$\n",
        "\n",
        "$p$ и $p_0$ є коефіцієнтами конверсії нового і старого дизайну відповідно.\n",
        "\n",
        "Встановимо **рівень значимості 5%**\n",
        "\n",
        "$$\\alpha = 0.05$$\n",
        "\n",
        "Значення $\\alpha$ - це встановлений нами поріг, за яким ми будемо визначати чи відхиляти нам нульову гіпотезу. Якщо пораховане нами $p$ -value нижче, ніж $\\alpha$, то ми відхилимо нульову гіпотезу.\n",
        "\n",
        "Отже, ми хочемо на 95% бути впевнені в тому, що відмінність коефіцієнтів конверсії для різних дизайнів є статистично значимою."
      ]
    },
    {
      "cell_type": "markdown",
      "metadata": {
        "id": "ftTEh-pPIr6O"
      },
      "source": [
        "### Вибір змінних\n",
        "\n",
        "* Група `control`  буде бачити старий дизайн\n",
        "* `treatment`  группа буде бачити новий дизайн сторінки\n",
        "\n",
        "Це значення ми будемо вважати незалежною змінною, адже весь інший функціонал, окрім дизайну сторінки, у користувачів обох груп однаковий.\n",
        "\n",
        "Наша залежна змінна (тобто те, що ми намагаєтьсь виміряти) може бути закодована як:\n",
        "* `0` - користувач не купив товар протягом цієї сесії\n",
        "* `1` - користувач придбав товар протягом поточної сесії\n",
        "\n",
        "Таким чином, ми зможемо легко порахувати середнє значення для кожної групи, щоб отримати коефіцієнт конверсії для кожного варіанту дизайна."
      ]
    },
    {
      "cell_type": "markdown",
      "metadata": {
        "id": "r36PizcoIr6O"
      },
      "source": [
        "### Вибір розміру вибірки\n",
        "\n",
        "Важливо відмітити, що ми будемо тестувати всю базу користувачів, яку маємо.\n",
        "\n",
        "Кількість користувачів (їх сесій на сторінці) впливає на точність наших розрахункових показників конверсії. Але чим більшою стає наша вибірка, тим дорожчим стає наше дослідження.\n",
        "\n",
        "На розмір вибірки впливає:\n",
        "\n",
        "* **Statistical power** ($ 1 - \\beta $) - вірогідність виявлення статистичної різниці між групами в нашому тесті, коли вона дійсно є. Зазвичай це значення встановлюють рівним 0.8\n",
        "* **Significance level** ($ \\alpha $) - 0.05.\n",
        "* **Effect size** - наскільки великою має бути різниця між коефіцієнтами конверсії.\n",
        "\n",
        "Оскільки для команди була достатньою різниця в 2%, ми можемо використати значення 13% и 15% для обрахунку очікуваного ефекту.\n",
        "\n",
        "**Python надає функціонал для обрахунку цих значень**:"
      ]
    },
    {
      "cell_type": "code",
      "execution_count": null,
      "metadata": {
        "ExecuteTime": {
          "end_time": "2021-11-19T18:16:25.149565Z",
          "start_time": "2021-11-19T18:16:24.818273Z"
        },
        "id": "zitk7-uiIr6P",
        "colab": {
          "base_uri": "https://localhost:8080/"
        },
        "outputId": "e47ca4f3-a34c-4381-a839-7573b94fc733"
      },
      "outputs": [
        {
          "output_type": "stream",
          "name": "stderr",
          "text": [
            "<ipython-input-7-04b897bb2c61>:12: MatplotlibDeprecationWarning: The seaborn styles shipped by Matplotlib are deprecated since 3.6, as they no longer correspond to the styles shipped by seaborn. However, they will remain available as 'seaborn-v0_8-<style>'. Alternatively, directly use the seaborn API instead.\n",
            "  plt.style.use('seaborn-whitegrid')\n"
          ]
        }
      ],
      "source": [
        "import numpy as np\n",
        "import pandas as pd\n",
        "import scipy.stats as stats\n",
        "import statsmodels.stats.api as sms\n",
        "import matplotlib as mpl\n",
        "import matplotlib.pyplot as plt\n",
        "import seaborn as sns\n",
        "from math import ceil\n",
        "\n",
        "%matplotlib inline\n",
        "\n",
        "plt.style.use('seaborn-whitegrid')\n",
        "font = {'family' : 'Helvetica',\n",
        "        'weight' : 'bold',\n",
        "        'size'   : 14}\n",
        "\n",
        "mpl.rc('font', **font)\n",
        "plt.show()"
      ]
    },
    {
      "cell_type": "code",
      "execution_count": null,
      "metadata": {
        "ExecuteTime": {
          "end_time": "2021-11-19T18:16:28.163983Z",
          "start_time": "2021-11-19T18:16:28.054460Z"
        },
        "id": "IDBSRiAFIr6P"
      },
      "outputs": [],
      "source": [
        "effect_size = sms.proportion_effectsize(0.13, 0.15)"
      ]
    },
    {
      "cell_type": "code",
      "execution_count": null,
      "metadata": {
        "ExecuteTime": {
          "end_time": "2021-11-19T18:17:14.872489Z",
          "start_time": "2021-11-19T18:17:14.827357Z"
        },
        "id": "h8YIs_ZIIr6Q",
        "outputId": "16ba514e-7764-4da1-dfec-2691774cb855",
        "colab": {
          "base_uri": "https://localhost:8080/"
        }
      },
      "outputs": [
        {
          "output_type": "execute_result",
          "data": {
            "text/plain": [
              "-0.0576728617308947"
            ]
          },
          "metadata": {},
          "execution_count": 9
        }
      ],
      "source": [
        "effect_size"
      ]
    },
    {
      "cell_type": "code",
      "execution_count": null,
      "metadata": {
        "ExecuteTime": {
          "end_time": "2021-11-19T18:16:28.163983Z",
          "start_time": "2021-11-19T18:16:28.054460Z"
        },
        "id": "dHmSgyaeIr6Q",
        "outputId": "08b16f29-bef7-438b-c20c-e409809b4a2d",
        "colab": {
          "base_uri": "https://localhost:8080/"
        }
      },
      "outputs": [
        {
          "output_type": "stream",
          "name": "stdout",
          "text": [
            "4720\n"
          ]
        }
      ],
      "source": [
        "required_n = sms.NormalIndPower().solve_power(\n",
        "    effect_size,\n",
        "    power=0.8,\n",
        "    alpha=0.05,\n",
        "    ratio=1\n",
        "    )                                                  # розрахунок необхідного розміру вибірк\n",
        "\n",
        "required_n = ceil(required_n)\n",
        "\n",
        "print(required_n)"
      ]
    },
    {
      "cell_type": "markdown",
      "metadata": {
        "id": "1WiYeoMHIr6Q"
      },
      "source": [
        "Нам необхідно **мінімум 4720 спостережень для кожної групи**.\n",
        "\n",
        "Параметр power на 0.8 на практиці означає, що якщо існує реальна різниця в коєфіцієнтах конверсії різних версій продукту, то в нас 80% шанс визначити її як статистино значиму в тесті з визначеним розміром вибірки."
      ]
    },
    {
      "cell_type": "markdown",
      "metadata": {
        "id": "1FXYI1zTIr6Q"
      },
      "source": [
        "***\n",
        "## 2. Збір і підготовка даних"
      ]
    },
    {
      "cell_type": "markdown",
      "metadata": {
        "id": "aoDZtiltIr6R"
      },
      "source": [
        "На практиці ви будете працювати з інженерами, щоб впевнитись, що ви зібрали необхідну кількість даних.\n",
        "\n",
        "Але в даному прикладі:\n",
        "1. Загрузимо набір даних з Kaggle.\n",
        "2. Перевіримо і очистимо дані.\n",
        "4. Випадковим чином оберемо n = 4720 рядків для кожної групи.\n"
      ]
    },
    {
      "cell_type": "code",
      "execution_count": null,
      "metadata": {
        "ExecuteTime": {
          "end_time": "2021-11-19T18:20:43.061317Z",
          "start_time": "2021-11-19T18:20:41.595204Z"
        },
        "id": "bPm5ghjpIr6R",
        "outputId": "d68e4fe6-9d3c-42d3-82ad-a29601cd4fda",
        "colab": {
          "base_uri": "https://localhost:8080/",
          "height": 206
        }
      },
      "outputs": [
        {
          "output_type": "execute_result",
          "data": {
            "text/plain": [
              "   user_id                   timestamp      group landing_page  converted\n",
              "0   851104  2017-01-21 22:11:48.556739    control     old_page          0\n",
              "1   804228  2017-01-12 08:01:45.159739    control     old_page          0\n",
              "2   661590  2017-01-11 16:55:06.154213  treatment     new_page          0\n",
              "3   853541  2017-01-08 18:28:03.143765  treatment     new_page          0\n",
              "4   864975  2017-01-21 01:52:26.210827    control     old_page          1"
            ],
            "text/html": [
              "\n",
              "  <div id=\"df-17b45682-8c18-4579-b677-e5fbf23ddf46\" class=\"colab-df-container\">\n",
              "    <div>\n",
              "<style scoped>\n",
              "    .dataframe tbody tr th:only-of-type {\n",
              "        vertical-align: middle;\n",
              "    }\n",
              "\n",
              "    .dataframe tbody tr th {\n",
              "        vertical-align: top;\n",
              "    }\n",
              "\n",
              "    .dataframe thead th {\n",
              "        text-align: right;\n",
              "    }\n",
              "</style>\n",
              "<table border=\"1\" class=\"dataframe\">\n",
              "  <thead>\n",
              "    <tr style=\"text-align: right;\">\n",
              "      <th></th>\n",
              "      <th>user_id</th>\n",
              "      <th>timestamp</th>\n",
              "      <th>group</th>\n",
              "      <th>landing_page</th>\n",
              "      <th>converted</th>\n",
              "    </tr>\n",
              "  </thead>\n",
              "  <tbody>\n",
              "    <tr>\n",
              "      <th>0</th>\n",
              "      <td>851104</td>\n",
              "      <td>2017-01-21 22:11:48.556739</td>\n",
              "      <td>control</td>\n",
              "      <td>old_page</td>\n",
              "      <td>0</td>\n",
              "    </tr>\n",
              "    <tr>\n",
              "      <th>1</th>\n",
              "      <td>804228</td>\n",
              "      <td>2017-01-12 08:01:45.159739</td>\n",
              "      <td>control</td>\n",
              "      <td>old_page</td>\n",
              "      <td>0</td>\n",
              "    </tr>\n",
              "    <tr>\n",
              "      <th>2</th>\n",
              "      <td>661590</td>\n",
              "      <td>2017-01-11 16:55:06.154213</td>\n",
              "      <td>treatment</td>\n",
              "      <td>new_page</td>\n",
              "      <td>0</td>\n",
              "    </tr>\n",
              "    <tr>\n",
              "      <th>3</th>\n",
              "      <td>853541</td>\n",
              "      <td>2017-01-08 18:28:03.143765</td>\n",
              "      <td>treatment</td>\n",
              "      <td>new_page</td>\n",
              "      <td>0</td>\n",
              "    </tr>\n",
              "    <tr>\n",
              "      <th>4</th>\n",
              "      <td>864975</td>\n",
              "      <td>2017-01-21 01:52:26.210827</td>\n",
              "      <td>control</td>\n",
              "      <td>old_page</td>\n",
              "      <td>1</td>\n",
              "    </tr>\n",
              "  </tbody>\n",
              "</table>\n",
              "</div>\n",
              "    <div class=\"colab-df-buttons\">\n",
              "\n",
              "  <div class=\"colab-df-container\">\n",
              "    <button class=\"colab-df-convert\" onclick=\"convertToInteractive('df-17b45682-8c18-4579-b677-e5fbf23ddf46')\"\n",
              "            title=\"Convert this dataframe to an interactive table.\"\n",
              "            style=\"display:none;\">\n",
              "\n",
              "  <svg xmlns=\"http://www.w3.org/2000/svg\" height=\"24px\" viewBox=\"0 -960 960 960\">\n",
              "    <path d=\"M120-120v-720h720v720H120Zm60-500h600v-160H180v160Zm220 220h160v-160H400v160Zm0 220h160v-160H400v160ZM180-400h160v-160H180v160Zm440 0h160v-160H620v160ZM180-180h160v-160H180v160Zm440 0h160v-160H620v160Z\"/>\n",
              "  </svg>\n",
              "    </button>\n",
              "\n",
              "  <style>\n",
              "    .colab-df-container {\n",
              "      display:flex;\n",
              "      gap: 12px;\n",
              "    }\n",
              "\n",
              "    .colab-df-convert {\n",
              "      background-color: #E8F0FE;\n",
              "      border: none;\n",
              "      border-radius: 50%;\n",
              "      cursor: pointer;\n",
              "      display: none;\n",
              "      fill: #1967D2;\n",
              "      height: 32px;\n",
              "      padding: 0 0 0 0;\n",
              "      width: 32px;\n",
              "    }\n",
              "\n",
              "    .colab-df-convert:hover {\n",
              "      background-color: #E2EBFA;\n",
              "      box-shadow: 0px 1px 2px rgba(60, 64, 67, 0.3), 0px 1px 3px 1px rgba(60, 64, 67, 0.15);\n",
              "      fill: #174EA6;\n",
              "    }\n",
              "\n",
              "    .colab-df-buttons div {\n",
              "      margin-bottom: 4px;\n",
              "    }\n",
              "\n",
              "    [theme=dark] .colab-df-convert {\n",
              "      background-color: #3B4455;\n",
              "      fill: #D2E3FC;\n",
              "    }\n",
              "\n",
              "    [theme=dark] .colab-df-convert:hover {\n",
              "      background-color: #434B5C;\n",
              "      box-shadow: 0px 1px 3px 1px rgba(0, 0, 0, 0.15);\n",
              "      filter: drop-shadow(0px 1px 2px rgba(0, 0, 0, 0.3));\n",
              "      fill: #FFFFFF;\n",
              "    }\n",
              "  </style>\n",
              "\n",
              "    <script>\n",
              "      const buttonEl =\n",
              "        document.querySelector('#df-17b45682-8c18-4579-b677-e5fbf23ddf46 button.colab-df-convert');\n",
              "      buttonEl.style.display =\n",
              "        google.colab.kernel.accessAllowed ? 'block' : 'none';\n",
              "\n",
              "      async function convertToInteractive(key) {\n",
              "        const element = document.querySelector('#df-17b45682-8c18-4579-b677-e5fbf23ddf46');\n",
              "        const dataTable =\n",
              "          await google.colab.kernel.invokeFunction('convertToInteractive',\n",
              "                                                    [key], {});\n",
              "        if (!dataTable) return;\n",
              "\n",
              "        const docLinkHtml = 'Like what you see? Visit the ' +\n",
              "          '<a target=\"_blank\" href=https://colab.research.google.com/notebooks/data_table.ipynb>data table notebook</a>'\n",
              "          + ' to learn more about interactive tables.';\n",
              "        element.innerHTML = '';\n",
              "        dataTable['output_type'] = 'display_data';\n",
              "        await google.colab.output.renderOutput(dataTable, element);\n",
              "        const docLink = document.createElement('div');\n",
              "        docLink.innerHTML = docLinkHtml;\n",
              "        element.appendChild(docLink);\n",
              "      }\n",
              "    </script>\n",
              "  </div>\n",
              "\n",
              "\n",
              "<div id=\"df-7a50f901-ae6c-4c16-a625-62fd58b2b711\">\n",
              "  <button class=\"colab-df-quickchart\" onclick=\"quickchart('df-7a50f901-ae6c-4c16-a625-62fd58b2b711')\"\n",
              "            title=\"Suggest charts\"\n",
              "            style=\"display:none;\">\n",
              "\n",
              "<svg xmlns=\"http://www.w3.org/2000/svg\" height=\"24px\"viewBox=\"0 0 24 24\"\n",
              "     width=\"24px\">\n",
              "    <g>\n",
              "        <path d=\"M19 3H5c-1.1 0-2 .9-2 2v14c0 1.1.9 2 2 2h14c1.1 0 2-.9 2-2V5c0-1.1-.9-2-2-2zM9 17H7v-7h2v7zm4 0h-2V7h2v10zm4 0h-2v-4h2v4z\"/>\n",
              "    </g>\n",
              "</svg>\n",
              "  </button>\n",
              "\n",
              "<style>\n",
              "  .colab-df-quickchart {\n",
              "      --bg-color: #E8F0FE;\n",
              "      --fill-color: #1967D2;\n",
              "      --hover-bg-color: #E2EBFA;\n",
              "      --hover-fill-color: #174EA6;\n",
              "      --disabled-fill-color: #AAA;\n",
              "      --disabled-bg-color: #DDD;\n",
              "  }\n",
              "\n",
              "  [theme=dark] .colab-df-quickchart {\n",
              "      --bg-color: #3B4455;\n",
              "      --fill-color: #D2E3FC;\n",
              "      --hover-bg-color: #434B5C;\n",
              "      --hover-fill-color: #FFFFFF;\n",
              "      --disabled-bg-color: #3B4455;\n",
              "      --disabled-fill-color: #666;\n",
              "  }\n",
              "\n",
              "  .colab-df-quickchart {\n",
              "    background-color: var(--bg-color);\n",
              "    border: none;\n",
              "    border-radius: 50%;\n",
              "    cursor: pointer;\n",
              "    display: none;\n",
              "    fill: var(--fill-color);\n",
              "    height: 32px;\n",
              "    padding: 0;\n",
              "    width: 32px;\n",
              "  }\n",
              "\n",
              "  .colab-df-quickchart:hover {\n",
              "    background-color: var(--hover-bg-color);\n",
              "    box-shadow: 0 1px 2px rgba(60, 64, 67, 0.3), 0 1px 3px 1px rgba(60, 64, 67, 0.15);\n",
              "    fill: var(--button-hover-fill-color);\n",
              "  }\n",
              "\n",
              "  .colab-df-quickchart-complete:disabled,\n",
              "  .colab-df-quickchart-complete:disabled:hover {\n",
              "    background-color: var(--disabled-bg-color);\n",
              "    fill: var(--disabled-fill-color);\n",
              "    box-shadow: none;\n",
              "  }\n",
              "\n",
              "  .colab-df-spinner {\n",
              "    border: 2px solid var(--fill-color);\n",
              "    border-color: transparent;\n",
              "    border-bottom-color: var(--fill-color);\n",
              "    animation:\n",
              "      spin 1s steps(1) infinite;\n",
              "  }\n",
              "\n",
              "  @keyframes spin {\n",
              "    0% {\n",
              "      border-color: transparent;\n",
              "      border-bottom-color: var(--fill-color);\n",
              "      border-left-color: var(--fill-color);\n",
              "    }\n",
              "    20% {\n",
              "      border-color: transparent;\n",
              "      border-left-color: var(--fill-color);\n",
              "      border-top-color: var(--fill-color);\n",
              "    }\n",
              "    30% {\n",
              "      border-color: transparent;\n",
              "      border-left-color: var(--fill-color);\n",
              "      border-top-color: var(--fill-color);\n",
              "      border-right-color: var(--fill-color);\n",
              "    }\n",
              "    40% {\n",
              "      border-color: transparent;\n",
              "      border-right-color: var(--fill-color);\n",
              "      border-top-color: var(--fill-color);\n",
              "    }\n",
              "    60% {\n",
              "      border-color: transparent;\n",
              "      border-right-color: var(--fill-color);\n",
              "    }\n",
              "    80% {\n",
              "      border-color: transparent;\n",
              "      border-right-color: var(--fill-color);\n",
              "      border-bottom-color: var(--fill-color);\n",
              "    }\n",
              "    90% {\n",
              "      border-color: transparent;\n",
              "      border-bottom-color: var(--fill-color);\n",
              "    }\n",
              "  }\n",
              "</style>\n",
              "\n",
              "  <script>\n",
              "    async function quickchart(key) {\n",
              "      const quickchartButtonEl =\n",
              "        document.querySelector('#' + key + ' button');\n",
              "      quickchartButtonEl.disabled = true;  // To prevent multiple clicks.\n",
              "      quickchartButtonEl.classList.add('colab-df-spinner');\n",
              "      try {\n",
              "        const charts = await google.colab.kernel.invokeFunction(\n",
              "            'suggestCharts', [key], {});\n",
              "      } catch (error) {\n",
              "        console.error('Error during call to suggestCharts:', error);\n",
              "      }\n",
              "      quickchartButtonEl.classList.remove('colab-df-spinner');\n",
              "      quickchartButtonEl.classList.add('colab-df-quickchart-complete');\n",
              "    }\n",
              "    (() => {\n",
              "      let quickchartButtonEl =\n",
              "        document.querySelector('#df-7a50f901-ae6c-4c16-a625-62fd58b2b711 button');\n",
              "      quickchartButtonEl.style.display =\n",
              "        google.colab.kernel.accessAllowed ? 'block' : 'none';\n",
              "    })();\n",
              "  </script>\n",
              "</div>\n",
              "    </div>\n",
              "  </div>\n"
            ],
            "application/vnd.google.colaboratory.intrinsic+json": {
              "type": "dataframe",
              "variable_name": "df"
            }
          },
          "metadata": {},
          "execution_count": 11
        }
      ],
      "source": [
        "df = pd.read_csv('ab_data.csv')\n",
        "\n",
        "df.head()"
      ]
    },
    {
      "cell_type": "code",
      "execution_count": null,
      "metadata": {
        "ExecuteTime": {
          "end_time": "2021-11-19T18:20:47.018392Z",
          "start_time": "2021-11-19T18:20:46.855209Z"
        },
        "id": "W8OGTnkWIr6R",
        "outputId": "7cfd6c10-9cfb-4106-d835-05ddb26d2b96",
        "colab": {
          "base_uri": "https://localhost:8080/"
        }
      },
      "outputs": [
        {
          "output_type": "stream",
          "name": "stdout",
          "text": [
            "<class 'pandas.core.frame.DataFrame'>\n",
            "RangeIndex: 294478 entries, 0 to 294477\n",
            "Data columns (total 5 columns):\n",
            " #   Column        Non-Null Count   Dtype \n",
            "---  ------        --------------   ----- \n",
            " 0   user_id       294478 non-null  int64 \n",
            " 1   timestamp     294478 non-null  object\n",
            " 2   group         294478 non-null  object\n",
            " 3   landing_page  294478 non-null  object\n",
            " 4   converted     294478 non-null  int64 \n",
            "dtypes: int64(2), object(3)\n",
            "memory usage: 11.2+ MB\n"
          ]
        }
      ],
      "source": [
        "df.info()"
      ]
    },
    {
      "cell_type": "markdown",
      "metadata": {
        "id": "DTdy5x8iIr6R"
      },
      "source": [
        "Давайте перевіримо, чи є користувачі, які зустрічаються кілька разів\n"
      ]
    },
    {
      "cell_type": "code",
      "execution_count": null,
      "metadata": {
        "ExecuteTime": {
          "end_time": "2021-11-19T18:22:21.852294Z",
          "start_time": "2021-11-19T18:22:21.757005Z"
        },
        "id": "n8neS7uQIr6R",
        "outputId": "8f115827-db25-49df-f0a6-1107156444db",
        "colab": {
          "base_uri": "https://localhost:8080/"
        }
      },
      "outputs": [
        {
          "output_type": "stream",
          "name": "stdout",
          "text": [
            "3894 користувачі, які зустрічаються кілька разів.\n"
          ]
        }
      ],
      "source": [
        "session_counts = df['user_id'].value_counts(ascending=False)\n",
        "multi_users = session_counts[session_counts > 1].count()\n",
        "\n",
        "print(f'{multi_users} користувачі, які зустрічаються кілька разів.')"
      ]
    },
    {
      "cell_type": "markdown",
      "metadata": {
        "id": "5DXnSstTIr6R"
      },
      "source": [
        "Оскільки їх небагато, давайте їх просто видалимо"
      ]
    },
    {
      "cell_type": "code",
      "execution_count": null,
      "metadata": {
        "ExecuteTime": {
          "end_time": "2021-11-19T18:22:36.266326Z",
          "start_time": "2021-11-19T18:22:36.200013Z"
        },
        "id": "LQFkIUHkIr6R",
        "outputId": "1ddd9849-d394-4abd-a2cc-019890ede555",
        "colab": {
          "base_uri": "https://localhost:8080/"
        }
      },
      "outputs": [
        {
          "output_type": "stream",
          "name": "stdout",
          "text": [
            "Новий розмір набору даних: (286690, 5)\n"
          ]
        }
      ],
      "source": [
        "users_to_drop = session_counts[session_counts > 1].index\n",
        "\n",
        "df = df[~df['user_id'].isin(users_to_drop)]\n",
        "print(f'Новий розмір набору даних: {df.shape}')"
      ]
    },
    {
      "cell_type": "code",
      "source": [
        "# щоб впевнитись, що вся контрольна група бачить старий дизайн\n",
        "df1 = df[(df['group'] == \"control\")]\n",
        "df1.shape, df1[df1[\"landing_page\"] == \"new_page\"].shape"
      ],
      "metadata": {
        "colab": {
          "base_uri": "https://localhost:8080/"
        },
        "id": "Vqh-SEZXajC_",
        "outputId": "b63095ee-b1cd-41ca-86ee-dd2d4a066787"
      },
      "execution_count": null,
      "outputs": [
        {
          "output_type": "execute_result",
          "data": {
            "text/plain": [
              "((143293, 5), (0, 5))"
            ]
          },
          "metadata": {},
          "execution_count": 15
        }
      ]
    },
    {
      "cell_type": "code",
      "source": [
        "df1 = df[(df['group'] == \"treatment\")]\n",
        "df1.shape, df1[df1[\"landing_page\"] == \"old_page\"].shape"
      ],
      "metadata": {
        "colab": {
          "base_uri": "https://localhost:8080/"
        },
        "id": "_J9XizsgbSOA",
        "outputId": "8f390541-9fcb-44ab-ec18-43cdef53f379"
      },
      "execution_count": null,
      "outputs": [
        {
          "output_type": "execute_result",
          "data": {
            "text/plain": [
              "((143397, 5), (0, 5))"
            ]
          },
          "metadata": {},
          "execution_count": 16
        }
      ]
    },
    {
      "cell_type": "markdown",
      "metadata": {
        "id": "sAMCPo-SIr6S"
      },
      "source": [
        "### Семплинг\n",
        "\n",
        "Давайте оберемо необхідну кількість користувачів кожної групи"
      ]
    },
    {
      "cell_type": "code",
      "execution_count": null,
      "metadata": {
        "ExecuteTime": {
          "end_time": "2021-11-19T18:22:54.842212Z",
          "start_time": "2021-11-19T18:22:54.709345Z"
        },
        "id": "RI8xWasNIr6S"
      },
      "outputs": [],
      "source": [
        "control_sample = df[df['group'] == 'control'].sample(n=required_n, random_state=22)\n",
        "treatment_sample = df[df['group'] == 'treatment'].sample(n=required_n, random_state=22)\n",
        "\n",
        "ab_test = pd.concat([control_sample, treatment_sample], axis=0)\n",
        "ab_test.reset_index(drop=True, inplace=True)"
      ]
    },
    {
      "cell_type": "code",
      "execution_count": null,
      "metadata": {
        "ExecuteTime": {
          "end_time": "2021-11-18T16:09:30.073848Z",
          "start_time": "2021-11-18T16:09:30.061582Z"
        },
        "id": "fiRkZxxTIr6S",
        "outputId": "3f65f6ee-70a3-42ca-e0c8-52309c80d281",
        "colab": {
          "base_uri": "https://localhost:8080/",
          "height": 423
        }
      },
      "outputs": [
        {
          "output_type": "execute_result",
          "data": {
            "text/plain": [
              "      user_id                   timestamp      group landing_page  converted\n",
              "0      763854  2017-01-21 03:43:17.188315    control     old_page          0\n",
              "1      690555  2017-01-18 06:38:13.079449    control     old_page          0\n",
              "2      861520  2017-01-06 21:13:40.044766    control     old_page          0\n",
              "3      630778  2017-01-05 16:42:36.995204    control     old_page          0\n",
              "4      656634  2017-01-04 15:31:21.676130    control     old_page          0\n",
              "...       ...                         ...        ...          ...        ...\n",
              "9435   908512  2017-01-14 22:02:29.922674  treatment     new_page          0\n",
              "9436   873211  2017-01-05 00:57:16.167151  treatment     new_page          0\n",
              "9437   631276  2017-01-20 18:56:58.167809  treatment     new_page          0\n",
              "9438   662301  2017-01-03 08:10:57.768806  treatment     new_page          0\n",
              "9439   944623  2017-01-19 10:56:01.648653  treatment     new_page          1\n",
              "\n",
              "[9440 rows x 5 columns]"
            ],
            "text/html": [
              "\n",
              "  <div id=\"df-9b2e2068-4198-4ead-bc81-24cbfbc9e942\" class=\"colab-df-container\">\n",
              "    <div>\n",
              "<style scoped>\n",
              "    .dataframe tbody tr th:only-of-type {\n",
              "        vertical-align: middle;\n",
              "    }\n",
              "\n",
              "    .dataframe tbody tr th {\n",
              "        vertical-align: top;\n",
              "    }\n",
              "\n",
              "    .dataframe thead th {\n",
              "        text-align: right;\n",
              "    }\n",
              "</style>\n",
              "<table border=\"1\" class=\"dataframe\">\n",
              "  <thead>\n",
              "    <tr style=\"text-align: right;\">\n",
              "      <th></th>\n",
              "      <th>user_id</th>\n",
              "      <th>timestamp</th>\n",
              "      <th>group</th>\n",
              "      <th>landing_page</th>\n",
              "      <th>converted</th>\n",
              "    </tr>\n",
              "  </thead>\n",
              "  <tbody>\n",
              "    <tr>\n",
              "      <th>0</th>\n",
              "      <td>763854</td>\n",
              "      <td>2017-01-21 03:43:17.188315</td>\n",
              "      <td>control</td>\n",
              "      <td>old_page</td>\n",
              "      <td>0</td>\n",
              "    </tr>\n",
              "    <tr>\n",
              "      <th>1</th>\n",
              "      <td>690555</td>\n",
              "      <td>2017-01-18 06:38:13.079449</td>\n",
              "      <td>control</td>\n",
              "      <td>old_page</td>\n",
              "      <td>0</td>\n",
              "    </tr>\n",
              "    <tr>\n",
              "      <th>2</th>\n",
              "      <td>861520</td>\n",
              "      <td>2017-01-06 21:13:40.044766</td>\n",
              "      <td>control</td>\n",
              "      <td>old_page</td>\n",
              "      <td>0</td>\n",
              "    </tr>\n",
              "    <tr>\n",
              "      <th>3</th>\n",
              "      <td>630778</td>\n",
              "      <td>2017-01-05 16:42:36.995204</td>\n",
              "      <td>control</td>\n",
              "      <td>old_page</td>\n",
              "      <td>0</td>\n",
              "    </tr>\n",
              "    <tr>\n",
              "      <th>4</th>\n",
              "      <td>656634</td>\n",
              "      <td>2017-01-04 15:31:21.676130</td>\n",
              "      <td>control</td>\n",
              "      <td>old_page</td>\n",
              "      <td>0</td>\n",
              "    </tr>\n",
              "    <tr>\n",
              "      <th>...</th>\n",
              "      <td>...</td>\n",
              "      <td>...</td>\n",
              "      <td>...</td>\n",
              "      <td>...</td>\n",
              "      <td>...</td>\n",
              "    </tr>\n",
              "    <tr>\n",
              "      <th>9435</th>\n",
              "      <td>908512</td>\n",
              "      <td>2017-01-14 22:02:29.922674</td>\n",
              "      <td>treatment</td>\n",
              "      <td>new_page</td>\n",
              "      <td>0</td>\n",
              "    </tr>\n",
              "    <tr>\n",
              "      <th>9436</th>\n",
              "      <td>873211</td>\n",
              "      <td>2017-01-05 00:57:16.167151</td>\n",
              "      <td>treatment</td>\n",
              "      <td>new_page</td>\n",
              "      <td>0</td>\n",
              "    </tr>\n",
              "    <tr>\n",
              "      <th>9437</th>\n",
              "      <td>631276</td>\n",
              "      <td>2017-01-20 18:56:58.167809</td>\n",
              "      <td>treatment</td>\n",
              "      <td>new_page</td>\n",
              "      <td>0</td>\n",
              "    </tr>\n",
              "    <tr>\n",
              "      <th>9438</th>\n",
              "      <td>662301</td>\n",
              "      <td>2017-01-03 08:10:57.768806</td>\n",
              "      <td>treatment</td>\n",
              "      <td>new_page</td>\n",
              "      <td>0</td>\n",
              "    </tr>\n",
              "    <tr>\n",
              "      <th>9439</th>\n",
              "      <td>944623</td>\n",
              "      <td>2017-01-19 10:56:01.648653</td>\n",
              "      <td>treatment</td>\n",
              "      <td>new_page</td>\n",
              "      <td>1</td>\n",
              "    </tr>\n",
              "  </tbody>\n",
              "</table>\n",
              "<p>9440 rows × 5 columns</p>\n",
              "</div>\n",
              "    <div class=\"colab-df-buttons\">\n",
              "\n",
              "  <div class=\"colab-df-container\">\n",
              "    <button class=\"colab-df-convert\" onclick=\"convertToInteractive('df-9b2e2068-4198-4ead-bc81-24cbfbc9e942')\"\n",
              "            title=\"Convert this dataframe to an interactive table.\"\n",
              "            style=\"display:none;\">\n",
              "\n",
              "  <svg xmlns=\"http://www.w3.org/2000/svg\" height=\"24px\" viewBox=\"0 -960 960 960\">\n",
              "    <path d=\"M120-120v-720h720v720H120Zm60-500h600v-160H180v160Zm220 220h160v-160H400v160Zm0 220h160v-160H400v160ZM180-400h160v-160H180v160Zm440 0h160v-160H620v160ZM180-180h160v-160H180v160Zm440 0h160v-160H620v160Z\"/>\n",
              "  </svg>\n",
              "    </button>\n",
              "\n",
              "  <style>\n",
              "    .colab-df-container {\n",
              "      display:flex;\n",
              "      gap: 12px;\n",
              "    }\n",
              "\n",
              "    .colab-df-convert {\n",
              "      background-color: #E8F0FE;\n",
              "      border: none;\n",
              "      border-radius: 50%;\n",
              "      cursor: pointer;\n",
              "      display: none;\n",
              "      fill: #1967D2;\n",
              "      height: 32px;\n",
              "      padding: 0 0 0 0;\n",
              "      width: 32px;\n",
              "    }\n",
              "\n",
              "    .colab-df-convert:hover {\n",
              "      background-color: #E2EBFA;\n",
              "      box-shadow: 0px 1px 2px rgba(60, 64, 67, 0.3), 0px 1px 3px 1px rgba(60, 64, 67, 0.15);\n",
              "      fill: #174EA6;\n",
              "    }\n",
              "\n",
              "    .colab-df-buttons div {\n",
              "      margin-bottom: 4px;\n",
              "    }\n",
              "\n",
              "    [theme=dark] .colab-df-convert {\n",
              "      background-color: #3B4455;\n",
              "      fill: #D2E3FC;\n",
              "    }\n",
              "\n",
              "    [theme=dark] .colab-df-convert:hover {\n",
              "      background-color: #434B5C;\n",
              "      box-shadow: 0px 1px 3px 1px rgba(0, 0, 0, 0.15);\n",
              "      filter: drop-shadow(0px 1px 2px rgba(0, 0, 0, 0.3));\n",
              "      fill: #FFFFFF;\n",
              "    }\n",
              "  </style>\n",
              "\n",
              "    <script>\n",
              "      const buttonEl =\n",
              "        document.querySelector('#df-9b2e2068-4198-4ead-bc81-24cbfbc9e942 button.colab-df-convert');\n",
              "      buttonEl.style.display =\n",
              "        google.colab.kernel.accessAllowed ? 'block' : 'none';\n",
              "\n",
              "      async function convertToInteractive(key) {\n",
              "        const element = document.querySelector('#df-9b2e2068-4198-4ead-bc81-24cbfbc9e942');\n",
              "        const dataTable =\n",
              "          await google.colab.kernel.invokeFunction('convertToInteractive',\n",
              "                                                    [key], {});\n",
              "        if (!dataTable) return;\n",
              "\n",
              "        const docLinkHtml = 'Like what you see? Visit the ' +\n",
              "          '<a target=\"_blank\" href=https://colab.research.google.com/notebooks/data_table.ipynb>data table notebook</a>'\n",
              "          + ' to learn more about interactive tables.';\n",
              "        element.innerHTML = '';\n",
              "        dataTable['output_type'] = 'display_data';\n",
              "        await google.colab.output.renderOutput(dataTable, element);\n",
              "        const docLink = document.createElement('div');\n",
              "        docLink.innerHTML = docLinkHtml;\n",
              "        element.appendChild(docLink);\n",
              "      }\n",
              "    </script>\n",
              "  </div>\n",
              "\n",
              "\n",
              "<div id=\"df-e672ec7c-f389-4373-8394-27f0980210d3\">\n",
              "  <button class=\"colab-df-quickchart\" onclick=\"quickchart('df-e672ec7c-f389-4373-8394-27f0980210d3')\"\n",
              "            title=\"Suggest charts\"\n",
              "            style=\"display:none;\">\n",
              "\n",
              "<svg xmlns=\"http://www.w3.org/2000/svg\" height=\"24px\"viewBox=\"0 0 24 24\"\n",
              "     width=\"24px\">\n",
              "    <g>\n",
              "        <path d=\"M19 3H5c-1.1 0-2 .9-2 2v14c0 1.1.9 2 2 2h14c1.1 0 2-.9 2-2V5c0-1.1-.9-2-2-2zM9 17H7v-7h2v7zm4 0h-2V7h2v10zm4 0h-2v-4h2v4z\"/>\n",
              "    </g>\n",
              "</svg>\n",
              "  </button>\n",
              "\n",
              "<style>\n",
              "  .colab-df-quickchart {\n",
              "      --bg-color: #E8F0FE;\n",
              "      --fill-color: #1967D2;\n",
              "      --hover-bg-color: #E2EBFA;\n",
              "      --hover-fill-color: #174EA6;\n",
              "      --disabled-fill-color: #AAA;\n",
              "      --disabled-bg-color: #DDD;\n",
              "  }\n",
              "\n",
              "  [theme=dark] .colab-df-quickchart {\n",
              "      --bg-color: #3B4455;\n",
              "      --fill-color: #D2E3FC;\n",
              "      --hover-bg-color: #434B5C;\n",
              "      --hover-fill-color: #FFFFFF;\n",
              "      --disabled-bg-color: #3B4455;\n",
              "      --disabled-fill-color: #666;\n",
              "  }\n",
              "\n",
              "  .colab-df-quickchart {\n",
              "    background-color: var(--bg-color);\n",
              "    border: none;\n",
              "    border-radius: 50%;\n",
              "    cursor: pointer;\n",
              "    display: none;\n",
              "    fill: var(--fill-color);\n",
              "    height: 32px;\n",
              "    padding: 0;\n",
              "    width: 32px;\n",
              "  }\n",
              "\n",
              "  .colab-df-quickchart:hover {\n",
              "    background-color: var(--hover-bg-color);\n",
              "    box-shadow: 0 1px 2px rgba(60, 64, 67, 0.3), 0 1px 3px 1px rgba(60, 64, 67, 0.15);\n",
              "    fill: var(--button-hover-fill-color);\n",
              "  }\n",
              "\n",
              "  .colab-df-quickchart-complete:disabled,\n",
              "  .colab-df-quickchart-complete:disabled:hover {\n",
              "    background-color: var(--disabled-bg-color);\n",
              "    fill: var(--disabled-fill-color);\n",
              "    box-shadow: none;\n",
              "  }\n",
              "\n",
              "  .colab-df-spinner {\n",
              "    border: 2px solid var(--fill-color);\n",
              "    border-color: transparent;\n",
              "    border-bottom-color: var(--fill-color);\n",
              "    animation:\n",
              "      spin 1s steps(1) infinite;\n",
              "  }\n",
              "\n",
              "  @keyframes spin {\n",
              "    0% {\n",
              "      border-color: transparent;\n",
              "      border-bottom-color: var(--fill-color);\n",
              "      border-left-color: var(--fill-color);\n",
              "    }\n",
              "    20% {\n",
              "      border-color: transparent;\n",
              "      border-left-color: var(--fill-color);\n",
              "      border-top-color: var(--fill-color);\n",
              "    }\n",
              "    30% {\n",
              "      border-color: transparent;\n",
              "      border-left-color: var(--fill-color);\n",
              "      border-top-color: var(--fill-color);\n",
              "      border-right-color: var(--fill-color);\n",
              "    }\n",
              "    40% {\n",
              "      border-color: transparent;\n",
              "      border-right-color: var(--fill-color);\n",
              "      border-top-color: var(--fill-color);\n",
              "    }\n",
              "    60% {\n",
              "      border-color: transparent;\n",
              "      border-right-color: var(--fill-color);\n",
              "    }\n",
              "    80% {\n",
              "      border-color: transparent;\n",
              "      border-right-color: var(--fill-color);\n",
              "      border-bottom-color: var(--fill-color);\n",
              "    }\n",
              "    90% {\n",
              "      border-color: transparent;\n",
              "      border-bottom-color: var(--fill-color);\n",
              "    }\n",
              "  }\n",
              "</style>\n",
              "\n",
              "  <script>\n",
              "    async function quickchart(key) {\n",
              "      const quickchartButtonEl =\n",
              "        document.querySelector('#' + key + ' button');\n",
              "      quickchartButtonEl.disabled = true;  // To prevent multiple clicks.\n",
              "      quickchartButtonEl.classList.add('colab-df-spinner');\n",
              "      try {\n",
              "        const charts = await google.colab.kernel.invokeFunction(\n",
              "            'suggestCharts', [key], {});\n",
              "      } catch (error) {\n",
              "        console.error('Error during call to suggestCharts:', error);\n",
              "      }\n",
              "      quickchartButtonEl.classList.remove('colab-df-spinner');\n",
              "      quickchartButtonEl.classList.add('colab-df-quickchart-complete');\n",
              "    }\n",
              "    (() => {\n",
              "      let quickchartButtonEl =\n",
              "        document.querySelector('#df-e672ec7c-f389-4373-8394-27f0980210d3 button');\n",
              "      quickchartButtonEl.style.display =\n",
              "        google.colab.kernel.accessAllowed ? 'block' : 'none';\n",
              "    })();\n",
              "  </script>\n",
              "</div>\n",
              "    </div>\n",
              "  </div>\n"
            ],
            "application/vnd.google.colaboratory.intrinsic+json": {
              "type": "dataframe",
              "variable_name": "ab_test",
              "summary": "{\n  \"name\": \"ab_test\",\n  \"rows\": 9440,\n  \"fields\": [\n    {\n      \"column\": \"user_id\",\n      \"properties\": {\n        \"dtype\": \"number\",\n        \"std\": 91313,\n        \"min\": 630119,\n        \"max\": 945969,\n        \"samples\": [\n          874934,\n          739689,\n          810694\n        ],\n        \"num_unique_values\": 9440,\n        \"semantic_type\": \"\",\n        \"description\": \"\"\n      }\n    },\n    {\n      \"column\": \"timestamp\",\n      \"properties\": {\n        \"dtype\": \"object\",\n        \"min\": \"2017-01-02 13:43:52.915614\",\n        \"max\": \"2017-01-24 13:40:23.844184\",\n        \"samples\": [\n          \"2017-01-21 11:42:24.568201\",\n          \"2017-01-15 18:38:19.354127\",\n          \"2017-01-20 07:19:51.002448\"\n        ],\n        \"num_unique_values\": 9440,\n        \"semantic_type\": \"\",\n        \"description\": \"\"\n      }\n    },\n    {\n      \"column\": \"group\",\n      \"properties\": {\n        \"dtype\": \"category\",\n        \"samples\": [\n          \"treatment\",\n          \"control\"\n        ],\n        \"num_unique_values\": 2,\n        \"semantic_type\": \"\",\n        \"description\": \"\"\n      }\n    },\n    {\n      \"column\": \"landing_page\",\n      \"properties\": {\n        \"dtype\": \"category\",\n        \"samples\": [\n          \"new_page\",\n          \"old_page\"\n        ],\n        \"num_unique_values\": 2,\n        \"semantic_type\": \"\",\n        \"description\": \"\"\n      }\n    },\n    {\n      \"column\": \"converted\",\n      \"properties\": {\n        \"dtype\": \"number\",\n        \"std\": 0,\n        \"min\": 0,\n        \"max\": 1,\n        \"samples\": [\n          1,\n          0\n        ],\n        \"num_unique_values\": 2,\n        \"semantic_type\": \"\",\n        \"description\": \"\"\n      }\n    }\n  ]\n}"
            }
          },
          "metadata": {},
          "execution_count": 18
        }
      ],
      "source": [
        "ab_test"
      ]
    },
    {
      "cell_type": "code",
      "execution_count": null,
      "metadata": {
        "ExecuteTime": {
          "end_time": "2021-11-18T16:09:31.305180Z",
          "start_time": "2021-11-18T16:09:31.293630Z"
        },
        "id": "caJIBNX9Ir6S",
        "outputId": "9ee826d7-30a2-46e8-eebd-b4e76ca6e9df",
        "colab": {
          "base_uri": "https://localhost:8080/"
        }
      },
      "outputs": [
        {
          "output_type": "stream",
          "name": "stdout",
          "text": [
            "<class 'pandas.core.frame.DataFrame'>\n",
            "RangeIndex: 9440 entries, 0 to 9439\n",
            "Data columns (total 5 columns):\n",
            " #   Column        Non-Null Count  Dtype \n",
            "---  ------        --------------  ----- \n",
            " 0   user_id       9440 non-null   int64 \n",
            " 1   timestamp     9440 non-null   object\n",
            " 2   group         9440 non-null   object\n",
            " 3   landing_page  9440 non-null   object\n",
            " 4   converted     9440 non-null   int64 \n",
            "dtypes: int64(2), object(3)\n",
            "memory usage: 368.9+ KB\n"
          ]
        }
      ],
      "source": [
        "ab_test.info()"
      ]
    },
    {
      "cell_type": "code",
      "execution_count": null,
      "metadata": {
        "ExecuteTime": {
          "end_time": "2021-11-18T16:09:31.913259Z",
          "start_time": "2021-11-18T16:09:31.907394Z"
        },
        "id": "sebnP3DPIr6S",
        "outputId": "2c508e95-cfa4-4fe9-e875-d7b5839e7381",
        "colab": {
          "base_uri": "https://localhost:8080/"
        }
      },
      "outputs": [
        {
          "output_type": "execute_result",
          "data": {
            "text/plain": [
              "control      4720\n",
              "treatment    4720\n",
              "Name: group, dtype: int64"
            ]
          },
          "metadata": {},
          "execution_count": 20
        }
      ],
      "source": [
        "ab_test['group'].value_counts()"
      ]
    },
    {
      "cell_type": "markdown",
      "metadata": {
        "id": "MBAZ1OWZIr6S"
      },
      "source": [
        "***\n",
        "## 3. Візуалізація результатів"
      ]
    },
    {
      "cell_type": "code",
      "execution_count": null,
      "metadata": {
        "ExecuteTime": {
          "end_time": "2021-11-18T16:11:09.012454Z",
          "start_time": "2021-11-18T16:11:08.429066Z"
        },
        "id": "Bvcf9THRIr6S",
        "outputId": "f351df12-58c4-449f-8c4a-1995caec2884",
        "colab": {
          "base_uri": "https://localhost:8080/",
          "height": 143
        }
      },
      "outputs": [
        {
          "output_type": "execute_result",
          "data": {
            "text/plain": [
              "<pandas.io.formats.style.Styler at 0x7eaa09f9e590>"
            ],
            "text/html": [
              "<style type=\"text/css\">\n",
              "</style>\n",
              "<table id=\"T_3c58d\" class=\"dataframe\">\n",
              "  <thead>\n",
              "    <tr>\n",
              "      <th class=\"blank level0\" >&nbsp;</th>\n",
              "      <th id=\"T_3c58d_level0_col0\" class=\"col_heading level0 col0\" >conversion_rate</th>\n",
              "      <th id=\"T_3c58d_level0_col1\" class=\"col_heading level0 col1\" >std_deviation</th>\n",
              "      <th id=\"T_3c58d_level0_col2\" class=\"col_heading level0 col2\" >std_error</th>\n",
              "    </tr>\n",
              "    <tr>\n",
              "      <th class=\"index_name level0\" >group</th>\n",
              "      <th class=\"blank col0\" >&nbsp;</th>\n",
              "      <th class=\"blank col1\" >&nbsp;</th>\n",
              "      <th class=\"blank col2\" >&nbsp;</th>\n",
              "    </tr>\n",
              "  </thead>\n",
              "  <tbody>\n",
              "    <tr>\n",
              "      <th id=\"T_3c58d_level0_row0\" class=\"row_heading level0 row0\" >control</th>\n",
              "      <td id=\"T_3c58d_row0_col0\" class=\"data row0 col0\" >0.123</td>\n",
              "      <td id=\"T_3c58d_row0_col1\" class=\"data row0 col1\" >0.329</td>\n",
              "      <td id=\"T_3c58d_row0_col2\" class=\"data row0 col2\" >0.005</td>\n",
              "    </tr>\n",
              "    <tr>\n",
              "      <th id=\"T_3c58d_level0_row1\" class=\"row_heading level0 row1\" >treatment</th>\n",
              "      <td id=\"T_3c58d_row1_col0\" class=\"data row1 col0\" >0.126</td>\n",
              "      <td id=\"T_3c58d_row1_col1\" class=\"data row1 col1\" >0.331</td>\n",
              "      <td id=\"T_3c58d_row1_col2\" class=\"data row1 col2\" >0.005</td>\n",
              "    </tr>\n",
              "  </tbody>\n",
              "</table>\n"
            ]
          },
          "metadata": {},
          "execution_count": 21
        }
      ],
      "source": [
        "conversion_rates = ab_test.groupby('group')['converted']\n",
        "\n",
        "std_p = lambda x: np.std(x, ddof=0)              # Std. deviation\n",
        "se_p = lambda x: stats.sem(x, ddof=0)            # (std / sqrt(n))\n",
        "\n",
        "conversion_rates = conversion_rates.agg([np.mean, std_p, se_p])\n",
        "conversion_rates.columns = ['conversion_rate', 'std_deviation', 'std_error']\n",
        "\n",
        "\n",
        "conversion_rates.style.format('{:.3f}')"
      ]
    },
    {
      "cell_type": "markdown",
      "metadata": {
        "id": "aVae_aDQIr6S"
      },
      "source": [
        "Судячи з цифр, обидва дизайни працювали дуже схоже 12,3% проти 12,6% конверсії\n"
      ]
    },
    {
      "cell_type": "code",
      "execution_count": null,
      "metadata": {
        "ExecuteTime": {
          "end_time": "2021-11-19T18:25:01.530769Z",
          "start_time": "2021-11-19T18:25:00.788592Z"
        },
        "id": "dWr2uf5TIr6S",
        "outputId": "9de50bea-67ee-4ed8-ab7a-566d7536ca22",
        "colab": {
          "base_uri": "https://localhost:8080/",
          "height": 1000
        }
      },
      "outputs": [
        {
          "output_type": "stream",
          "name": "stderr",
          "text": [
            "<ipython-input-22-21982b4d6101>:3: FutureWarning: \n",
            "\n",
            "The `ci` parameter is deprecated. Use `errorbar=('ci', False)` for the same effect.\n",
            "\n",
            "  sns.barplot(x=ab_test['group'], y=ab_test['converted'], ci=False)\n",
            "WARNING:matplotlib.font_manager:findfont: Font family 'Helvetica' not found.\n",
            "WARNING:matplotlib.font_manager:findfont: Font family 'Helvetica' not found.\n",
            "WARNING:matplotlib.font_manager:findfont: Font family 'Helvetica' not found.\n",
            "WARNING:matplotlib.font_manager:findfont: Font family 'Helvetica' not found.\n",
            "WARNING:matplotlib.font_manager:findfont: Font family 'Helvetica' not found.\n",
            "WARNING:matplotlib.font_manager:findfont: Font family 'Helvetica' not found.\n",
            "WARNING:matplotlib.font_manager:findfont: Font family 'Helvetica' not found.\n",
            "WARNING:matplotlib.font_manager:findfont: Font family 'Helvetica' not found.\n",
            "WARNING:matplotlib.font_manager:findfont: Font family 'Helvetica' not found.\n",
            "WARNING:matplotlib.font_manager:findfont: Font family 'Helvetica' not found.\n",
            "WARNING:matplotlib.font_manager:findfont: Font family 'Helvetica' not found.\n",
            "WARNING:matplotlib.font_manager:findfont: Font family 'Helvetica' not found.\n",
            "WARNING:matplotlib.font_manager:findfont: Font family 'Helvetica' not found.\n",
            "WARNING:matplotlib.font_manager:findfont: Font family 'Helvetica' not found.\n",
            "WARNING:matplotlib.font_manager:findfont: Font family 'Helvetica' not found.\n",
            "WARNING:matplotlib.font_manager:findfont: Font family 'Helvetica' not found.\n",
            "WARNING:matplotlib.font_manager:findfont: Font family 'Helvetica' not found.\n",
            "WARNING:matplotlib.font_manager:findfont: Font family 'Helvetica' not found.\n",
            "WARNING:matplotlib.font_manager:findfont: Font family 'Helvetica' not found.\n",
            "WARNING:matplotlib.font_manager:findfont: Font family 'Helvetica' not found.\n",
            "WARNING:matplotlib.font_manager:findfont: Font family 'Helvetica' not found.\n",
            "WARNING:matplotlib.font_manager:findfont: Font family 'Helvetica' not found.\n",
            "WARNING:matplotlib.font_manager:findfont: Font family 'Helvetica' not found.\n",
            "WARNING:matplotlib.font_manager:findfont: Font family 'Helvetica' not found.\n",
            "WARNING:matplotlib.font_manager:findfont: Font family 'Helvetica' not found.\n",
            "WARNING:matplotlib.font_manager:findfont: Font family 'Helvetica' not found.\n",
            "WARNING:matplotlib.font_manager:findfont: Font family 'Helvetica' not found.\n",
            "WARNING:matplotlib.font_manager:findfont: Font family 'Helvetica' not found.\n",
            "WARNING:matplotlib.font_manager:findfont: Font family 'Helvetica' not found.\n",
            "WARNING:matplotlib.font_manager:findfont: Font family 'Helvetica' not found.\n",
            "WARNING:matplotlib.font_manager:findfont: Font family 'Helvetica' not found.\n",
            "WARNING:matplotlib.font_manager:findfont: Font family 'Helvetica' not found.\n",
            "WARNING:matplotlib.font_manager:findfont: Font family 'Helvetica' not found.\n",
            "WARNING:matplotlib.font_manager:findfont: Font family 'Helvetica' not found.\n",
            "WARNING:matplotlib.font_manager:findfont: Font family 'Helvetica' not found.\n",
            "WARNING:matplotlib.font_manager:findfont: Font family 'Helvetica' not found.\n",
            "WARNING:matplotlib.font_manager:findfont: Font family 'Helvetica' not found.\n",
            "WARNING:matplotlib.font_manager:findfont: Font family 'Helvetica' not found.\n",
            "WARNING:matplotlib.font_manager:findfont: Font family 'Helvetica' not found.\n",
            "WARNING:matplotlib.font_manager:findfont: Font family 'Helvetica' not found.\n",
            "WARNING:matplotlib.font_manager:findfont: Font family 'Helvetica' not found.\n",
            "WARNING:matplotlib.font_manager:findfont: Font family 'Helvetica' not found.\n",
            "WARNING:matplotlib.font_manager:findfont: Font family 'Helvetica' not found.\n",
            "WARNING:matplotlib.font_manager:findfont: Font family 'Helvetica' not found.\n",
            "WARNING:matplotlib.font_manager:findfont: Font family 'Helvetica' not found.\n",
            "WARNING:matplotlib.font_manager:findfont: Font family 'Helvetica' not found.\n",
            "WARNING:matplotlib.font_manager:findfont: Font family 'Helvetica' not found.\n",
            "WARNING:matplotlib.font_manager:findfont: Font family 'Helvetica' not found.\n",
            "WARNING:matplotlib.font_manager:findfont: Font family 'Helvetica' not found.\n",
            "WARNING:matplotlib.font_manager:findfont: Font family 'Helvetica' not found.\n",
            "WARNING:matplotlib.font_manager:findfont: Font family 'Helvetica' not found.\n",
            "WARNING:matplotlib.font_manager:findfont: Font family 'Helvetica' not found.\n",
            "WARNING:matplotlib.font_manager:findfont: Font family 'Helvetica' not found.\n",
            "WARNING:matplotlib.font_manager:findfont: Font family 'Helvetica' not found.\n",
            "WARNING:matplotlib.font_manager:findfont: Font family 'Helvetica' not found.\n",
            "WARNING:matplotlib.font_manager:findfont: Font family 'Helvetica' not found.\n",
            "WARNING:matplotlib.font_manager:findfont: Font family 'Helvetica' not found.\n",
            "WARNING:matplotlib.font_manager:findfont: Font family 'Helvetica' not found.\n",
            "WARNING:matplotlib.font_manager:findfont: Font family 'Helvetica' not found.\n",
            "WARNING:matplotlib.font_manager:findfont: Font family 'Helvetica' not found.\n",
            "WARNING:matplotlib.font_manager:findfont: Font family 'Helvetica' not found.\n",
            "WARNING:matplotlib.font_manager:findfont: Font family 'Helvetica' not found.\n"
          ]
        },
        {
          "output_type": "display_data",
          "data": {
            "text/plain": [
              "<Figure size 800x600 with 1 Axes>"
            ],
            "image/png": "[encoded data removed]"
          },
          "metadata": {}
        }
      ],
      "source": [
        "plt.figure(figsize=(8,6))\n",
        "\n",
        "sns.barplot(x=ab_test['group'], y=ab_test['converted'], ci=False)\n",
        "\n",
        "plt.ylim(0, 0.17)\n",
        "plt.title('Conversion rate by group', pad=20)\n",
        "plt.xlabel('Group', labelpad=15)\n",
        "plt.ylabel('Converted (proportion)', labelpad=15);"
      ]
    },
    {
      "cell_type": "markdown",
      "metadata": {
        "id": "_rD-9mzCIr6T"
      },
      "source": [
        "## 4. Тестування гіпотези"
      ]
    },
    {
      "cell_type": "markdown",
      "metadata": {
        "id": "M3g50B39Ir6T"
      },
      "source": [
        "Оскільки в нас доволі велика вибірка, можемо використовувати <a href=\"https://en.wikipedia.org/wiki/Binomial_proportion_confidence_interval#Normal_approximation_interval\"> нормальне наближення </a> для для обчислення $p-value$ (z-тест).\n"
      ]
    },
    {
      "cell_type": "code",
      "execution_count": null,
      "metadata": {
        "ExecuteTime": {
          "end_time": "2021-11-19T18:25:16.452647Z",
          "start_time": "2021-11-19T18:25:16.447407Z"
        },
        "id": "FTcRS98MIr6T"
      },
      "outputs": [],
      "source": [
        "from statsmodels.stats.proportion import proportions_ztest, proportion_confint"
      ]
    },
    {
      "cell_type": "code",
      "execution_count": null,
      "metadata": {
        "ExecuteTime": {
          "end_time": "2021-11-19T18:25:26.256705Z",
          "start_time": "2021-11-19T18:25:26.239674Z"
        },
        "id": "y2OwMfZGIr6T"
      },
      "outputs": [],
      "source": [
        "control_results = ab_test[ab_test['group'] == 'control']['converted']\n",
        "treatment_results = ab_test[ab_test['group'] == 'treatment']['converted']"
      ]
    },
    {
      "cell_type": "code",
      "execution_count": null,
      "metadata": {
        "ExecuteTime": {
          "end_time": "2021-11-19T18:25:44.318632Z",
          "start_time": "2021-11-19T18:25:44.303011Z"
        },
        "id": "gLhTcQx0Ir6T",
        "outputId": "9c2d3318-8829-4e59-8104-14794e659732",
        "colab": {
          "base_uri": "https://localhost:8080/"
        }
      },
      "outputs": [
        {
          "output_type": "stream",
          "name": "stdout",
          "text": [
            "z statistic: -0.34\n",
            "p-value: 0.732\n",
            "Довірчий інтервал 95% для групи control: [0.114, 0.133]\n",
            "Довірчий інтервал 95% для групи treatment: [0.116, 0.135]\n"
          ]
        }
      ],
      "source": [
        "n_con = control_results.count()\n",
        "n_treat = treatment_results.count()\n",
        "successes = [control_results.sum(), treatment_results.sum()]\n",
        "nobs = [n_con, n_treat]\n",
        "\n",
        "z_stat, pval = proportions_ztest(successes, nobs=nobs)\n",
        "(lower_con, lower_treat), (upper_con, upper_treat) = proportion_confint(successes, nobs=nobs, alpha=0.05)\n",
        "\n",
        "print(f'z statistic: {z_stat:.2f}')\n",
        "print(f'p-value: {pval:.3f}')\n",
        "print(f'Довірчий інтервал 95% для групи control: [{lower_con:.3f}, {upper_con:.3f}]')\n",
        "print(f'Довірчий інтервал 95% для групи treatment: [{lower_treat:.3f}, {upper_treat:.3f}]')"
      ]
    },
    {
      "cell_type": "markdown",
      "metadata": {
        "id": "WnIDIuIbIr6T"
      },
      "source": [
        "## 5. Висновки"
      ]
    },
    {
      "cell_type": "markdown",
      "metadata": {
        "id": "AdZ2fXhkIr6T"
      },
      "source": [
        "Оскільки отримане $p$ -value=0.732 вище заданого $\\alpha$ = 0.05, ми не можемо відхилити нульову гіпотезу $H_0$. Що означає, що новий дизайн не працював краще за попередній.\n"
      ]
    }
  ],
  "metadata": {
    "kernelspec": {
      "display_name": "Python 3",
      "language": "python",
      "name": "python3"
    },
    "language_info": {
      "codemirror_mode": {
        "name": "ipython",
        "version": 3
      },
      "file_extension": ".py",
      "mimetype": "text/x-python",
      "name": "python",
      "nbconvert_exporter": "python",
      "pygments_lexer": "ipython3",
      "version": "3.8.8"
    },
    "toc": {
      "base_numbering": 1,
      "nav_menu": {},
      "number_sections": true,
      "sideBar": true,
      "skip_h1_title": false,
      "title_cell": "Table of Contents",
      "title_sidebar": "Contents",
      "toc_cell": false,
      "toc_position": {},
      "toc_section_display": true,
      "toc_window_display": false
    },
    "colab": {
      "provenance": [],
      "include_colab_link": true
    }
  },
  "nbformat": 4,
  "nbformat_minor": 0
}