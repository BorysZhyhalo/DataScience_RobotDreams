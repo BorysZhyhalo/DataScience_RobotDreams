{
  "cells": [
    {
      "cell_type": "markdown",
      "metadata": {
        "id": "view-in-github",
        "colab_type": "text"
      },
      "source": [
        "<a href=\"https://colab.research.google.com/github/BorysZhyhalo/DataScience_RobotDreams/blob/main/Lesson10_Classification_Logistic_regression.ipynb\" target=\"_parent\"><img src=\"https://colab.research.google.com/assets/colab-badge.svg\" alt=\"Open In Colab\"/></a>"
      ]
    },
    {
      "cell_type": "code",
      "execution_count": null,
      "id": "ce3001ab",
      "metadata": {
        "ExecuteTime": {
          "end_time": "2022-01-22T16:04:59.377549Z",
          "start_time": "2022-01-22T16:04:59.141195Z"
        },
        "id": "ce3001ab"
      },
      "outputs": [],
      "source": [
        "import numpy as np\n",
        "import pandas as pd\n",
        "import seaborn as sns\n",
        "import matplotlib.pyplot as plt\n",
        "from sklearn.datasets import load_iris\n",
        "from sklearn.linear_model import LogisticRegression\n",
        "from sklearn.model_selection import train_test_split"
      ]
    },
    {
      "cell_type": "code",
      "execution_count": null,
      "id": "4591c4bb",
      "metadata": {
        "ExecuteTime": {
          "end_time": "2022-01-22T16:05:00.141489Z",
          "start_time": "2022-01-22T16:05:00.138864Z"
        },
        "id": "4591c4bb"
      },
      "outputs": [],
      "source": [
        "RANDOM_STATE = 11"
      ]
    },
    {
      "cell_type": "markdown",
      "id": "85af8a65",
      "metadata": {
        "id": "85af8a65"
      },
      "source": [
        "Імпортуємо дані:"
      ]
    },
    {
      "cell_type": "code",
      "source": [
        "data = load_iris()"
      ],
      "metadata": {
        "id": "ZXrchBeKXddt"
      },
      "id": "ZXrchBeKXddt",
      "execution_count": null,
      "outputs": []
    },
    {
      "cell_type": "code",
      "source": [
        "data.feature_names"
      ],
      "metadata": {
        "colab": {
          "base_uri": "https://localhost:8080/"
        },
        "id": "6GbiVab_Xsig",
        "outputId": "394b0458-019e-42f4-c180-b00d741e0819"
      },
      "id": "6GbiVab_Xsig",
      "execution_count": null,
      "outputs": [
        {
          "output_type": "execute_result",
          "data": {
            "text/plain": [
              "['sepal length (cm)',\n",
              " 'sepal width (cm)',\n",
              " 'petal length (cm)',\n",
              " 'petal width (cm)']"
            ]
          },
          "metadata": {},
          "execution_count": 5
        }
      ]
    },
    {
      "cell_type": "code",
      "source": [
        "data.target_names"
      ],
      "metadata": {
        "colab": {
          "base_uri": "https://localhost:8080/"
        },
        "id": "xLpFSJ9YX5Sy",
        "outputId": "0ea8eae5-36d9-4fd9-8c01-65da39a0c761"
      },
      "id": "xLpFSJ9YX5Sy",
      "execution_count": null,
      "outputs": [
        {
          "output_type": "execute_result",
          "data": {
            "text/plain": [
              "array(['setosa', 'versicolor', 'virginica'], dtype='<U10')"
            ]
          },
          "metadata": {},
          "execution_count": 6
        }
      ]
    },
    {
      "cell_type": "code",
      "execution_count": null,
      "id": "867fd29c",
      "metadata": {
        "ExecuteTime": {
          "end_time": "2022-01-22T16:05:01.159863Z",
          "start_time": "2022-01-22T16:05:01.152162Z"
        },
        "id": "867fd29c"
      },
      "outputs": [],
      "source": [
        "X, y = load_iris(return_X_y=True)"
      ]
    },
    {
      "cell_type": "code",
      "execution_count": null,
      "id": "935d2ebc",
      "metadata": {
        "ExecuteTime": {
          "end_time": "2022-01-22T16:05:01.313524Z",
          "start_time": "2022-01-22T16:05:01.307639Z"
        },
        "id": "935d2ebc",
        "outputId": "607bce80-4ce4-41fc-dad4-392c80a255ab",
        "colab": {
          "base_uri": "https://localhost:8080/"
        }
      },
      "outputs": [
        {
          "output_type": "execute_result",
          "data": {
            "text/plain": [
              "array([[5.1, 3.5, 1.4, 0.2],\n",
              "       [4.9, 3. , 1.4, 0.2],\n",
              "       [4.7, 3.2, 1.3, 0.2],\n",
              "       [4.6, 3.1, 1.5, 0.2],\n",
              "       [5. , 3.6, 1.4, 0.2]])"
            ]
          },
          "metadata": {},
          "execution_count": 8
        }
      ],
      "source": [
        "X[:5]"
      ]
    },
    {
      "cell_type": "code",
      "execution_count": null,
      "id": "b2b634e7",
      "metadata": {
        "ExecuteTime": {
          "end_time": "2022-01-22T16:05:01.595077Z",
          "start_time": "2022-01-22T16:05:01.590803Z"
        },
        "id": "b2b634e7",
        "outputId": "d325ed20-dbfe-4036-bb85-cb736e7f5c26",
        "colab": {
          "base_uri": "https://localhost:8080/"
        }
      },
      "outputs": [
        {
          "output_type": "execute_result",
          "data": {
            "text/plain": [
              "array([0, 0, 0, 0, 0, 0, 0, 0, 0, 0, 0, 0, 0, 0, 0, 0, 0, 0, 0, 0, 0, 0,\n",
              "       0, 0, 0, 0, 0, 0, 0, 0, 0, 0, 0, 0, 0, 0, 0, 0, 0, 0, 0, 0, 0, 0,\n",
              "       0, 0, 0, 0, 0, 0, 1, 1, 1, 1, 1, 1, 1, 1, 1, 1, 1, 1, 1, 1, 1, 1,\n",
              "       1, 1, 1, 1, 1, 1, 1, 1, 1, 1, 1, 1, 1, 1, 1, 1, 1, 1, 1, 1, 1, 1,\n",
              "       1, 1, 1, 1, 1, 1, 1, 1, 1, 1, 1, 1, 2, 2, 2, 2, 2, 2, 2, 2, 2, 2,\n",
              "       2, 2, 2, 2, 2, 2, 2, 2, 2, 2, 2, 2, 2, 2, 2, 2, 2, 2, 2, 2, 2, 2,\n",
              "       2, 2, 2, 2, 2, 2, 2, 2, 2, 2, 2, 2, 2, 2, 2, 2, 2, 2])"
            ]
          },
          "metadata": {},
          "execution_count": 9
        }
      ],
      "source": [
        "y"
      ]
    },
    {
      "cell_type": "markdown",
      "id": "0163714a",
      "metadata": {
        "ExecuteTime": {
          "end_time": "2022-01-22T14:42:32.310172Z",
          "start_time": "2022-01-22T14:42:32.307845Z"
        },
        "id": "0163714a"
      },
      "source": [
        "# Бінарна класифікація"
      ]
    },
    {
      "cell_type": "markdown",
      "id": "32245bff",
      "metadata": {
        "id": "32245bff"
      },
      "source": [
        "Розглянемо бінарну класифікацію. Для цього створимо новий бінарний таргет:"
      ]
    },
    {
      "cell_type": "code",
      "execution_count": null,
      "id": "a5dba405",
      "metadata": {
        "ExecuteTime": {
          "end_time": "2022-01-22T16:05:02.103209Z",
          "start_time": "2022-01-22T16:05:02.100470Z"
        },
        "id": "a5dba405"
      },
      "outputs": [],
      "source": [
        "y_binary = np.where(y==1, 1, 0)"
      ]
    },
    {
      "cell_type": "code",
      "execution_count": null,
      "id": "df412fa4",
      "metadata": {
        "ExecuteTime": {
          "end_time": "2022-01-22T16:05:02.284638Z",
          "start_time": "2022-01-22T16:05:02.280174Z"
        },
        "id": "df412fa4",
        "outputId": "45a0f9ad-4702-4b15-abe9-1a664042b77f",
        "colab": {
          "base_uri": "https://localhost:8080/"
        }
      },
      "outputs": [
        {
          "output_type": "execute_result",
          "data": {
            "text/plain": [
              "array([0, 0, 0, 0, 0, 0, 0, 0, 0, 0, 0, 0, 0, 0, 0, 0, 0, 0, 0, 0, 0, 0,\n",
              "       0, 0, 0, 0, 0, 0, 0, 0, 0, 0, 0, 0, 0, 0, 0, 0, 0, 0, 0, 0, 0, 0,\n",
              "       0, 0, 0, 0, 0, 0, 1, 1, 1, 1, 1, 1, 1, 1, 1, 1, 1, 1, 1, 1, 1, 1,\n",
              "       1, 1, 1, 1, 1, 1, 1, 1, 1, 1, 1, 1, 1, 1, 1, 1, 1, 1, 1, 1, 1, 1,\n",
              "       1, 1, 1, 1, 1, 1, 1, 1, 1, 1, 1, 1, 0, 0, 0, 0, 0, 0, 0, 0, 0, 0,\n",
              "       0, 0, 0, 0, 0, 0, 0, 0, 0, 0, 0, 0, 0, 0, 0, 0, 0, 0, 0, 0, 0, 0,\n",
              "       0, 0, 0, 0, 0, 0, 0, 0, 0, 0, 0, 0, 0, 0, 0, 0, 0, 0])"
            ]
          },
          "metadata": {},
          "execution_count": 11
        }
      ],
      "source": [
        "y_binary"
      ]
    },
    {
      "cell_type": "code",
      "execution_count": null,
      "id": "b761b42d",
      "metadata": {
        "ExecuteTime": {
          "end_time": "2022-01-22T16:05:02.445478Z",
          "start_time": "2022-01-22T16:05:02.440442Z"
        },
        "id": "b761b42d",
        "outputId": "f017be76-a345-4680-e2b3-56c583fd32c1",
        "colab": {
          "base_uri": "https://localhost:8080/"
        }
      },
      "outputs": [
        {
          "output_type": "execute_result",
          "data": {
            "text/plain": [
              "(array([0, 1]), array([100,  50]))"
            ]
          },
          "metadata": {},
          "execution_count": 12
        }
      ],
      "source": [
        "np.unique(y_binary, return_counts=True)"
      ]
    },
    {
      "cell_type": "markdown",
      "id": "d0c47617",
      "metadata": {
        "id": "d0c47617"
      },
      "source": [
        "Представників класу \"1\" вдвічі більше, ніж \"0\" – незбалансована класифікація."
      ]
    },
    {
      "cell_type": "markdown",
      "id": "d0a34d9a",
      "metadata": {
        "id": "d0a34d9a"
      },
      "source": [
        "Зафіксуємо тренувальні та тестові індекси, вказавши, що ми хочемо стратифікувати наші мітки, тобто зберегти однаковий баланс міток у train та test наборах даних:"
      ]
    },
    {
      "cell_type": "code",
      "execution_count": null,
      "id": "696c8587",
      "metadata": {
        "ExecuteTime": {
          "end_time": "2022-01-22T16:05:03.200972Z",
          "start_time": "2022-01-22T16:05:03.196971Z"
        },
        "id": "696c8587"
      },
      "outputs": [],
      "source": [
        "train_ids, test_ids = train_test_split(range(len(y_binary)), test_size=.3, random_state=RANDOM_STATE, stratify=y_binary)"
      ]
    },
    {
      "cell_type": "markdown",
      "id": "0d4d29a3",
      "metadata": {
        "id": "0d4d29a3"
      },
      "source": [
        "Перевіримо, що у нас однаковий відсоток позитивних міток у train і test:"
      ]
    },
    {
      "cell_type": "code",
      "execution_count": null,
      "id": "1c8438e2",
      "metadata": {
        "ExecuteTime": {
          "end_time": "2022-01-22T16:05:03.857864Z",
          "start_time": "2022-01-22T16:05:03.851983Z"
        },
        "id": "1c8438e2",
        "outputId": "093d41e7-4d2f-4e85-ab46-cad660ed1e22",
        "colab": {
          "base_uri": "https://localhost:8080/"
        }
      },
      "outputs": [
        {
          "output_type": "stream",
          "name": "stdout",
          "text": [
            "0    0.666667\n",
            "1    0.333333\n",
            "dtype: float64\n",
            "0    0.666667\n",
            "1    0.333333\n",
            "dtype: float64\n"
          ]
        }
      ],
      "source": [
        "for dataset_ids in [train_ids, test_ids]:\n",
        "    print(pd.Series(y_binary[dataset_ids]).value_counts(normalize=True))"
      ]
    },
    {
      "cell_type": "markdown",
      "id": "5973e542",
      "metadata": {
        "id": "5973e542"
      },
      "source": [
        "Розподіл міток у наборах даних train і test однаковий."
      ]
    },
    {
      "cell_type": "markdown",
      "id": "77443c37",
      "metadata": {
        "id": "77443c37"
      },
      "source": [
        "## Навчаємо логістичну регресію"
      ]
    },
    {
      "cell_type": "markdown",
      "id": "00396e1b",
      "metadata": {
        "id": "00396e1b"
      },
      "source": [
        "Навчаємо на тренувальних даних:"
      ]
    },
    {
      "cell_type": "code",
      "execution_count": null,
      "id": "914ce8c1",
      "metadata": {
        "ExecuteTime": {
          "end_time": "2022-01-22T16:05:05.142022Z",
          "start_time": "2022-01-22T16:05:05.128038Z"
        },
        "id": "914ce8c1",
        "outputId": "fce1d1e8-ded4-43e2-88bb-b1756a448b53",
        "colab": {
          "base_uri": "https://localhost:8080/",
          "height": 75
        }
      },
      "outputs": [
        {
          "output_type": "execute_result",
          "data": {
            "text/plain": [
              "LogisticRegression(random_state=11)"
            ],
            "text/html": [
              "<style>#sk-container-id-1 {color: black;background-color: white;}#sk-container-id-1 pre{padding: 0;}#sk-container-id-1 div.sk-toggleable {background-color: white;}#sk-container-id-1 label.sk-toggleable__label {cursor: pointer;display: block;width: 100%;margin-bottom: 0;padding: 0.3em;box-sizing: border-box;text-align: center;}#sk-container-id-1 label.sk-toggleable__label-arrow:before {content: \"▸\";float: left;margin-right: 0.25em;color: #696969;}#sk-container-id-1 label.sk-toggleable__label-arrow:hover:before {color: black;}#sk-container-id-1 div.sk-estimator:hover label.sk-toggleable__label-arrow:before {color: black;}#sk-container-id-1 div.sk-toggleable__content {max-height: 0;max-width: 0;overflow: hidden;text-align: left;background-color: #f0f8ff;}#sk-container-id-1 div.sk-toggleable__content pre {margin: 0.2em;color: black;border-radius: 0.25em;background-color: #f0f8ff;}#sk-container-id-1 input.sk-toggleable__control:checked~div.sk-toggleable__content {max-height: 200px;max-width: 100%;overflow: auto;}#sk-container-id-1 input.sk-toggleable__control:checked~label.sk-toggleable__label-arrow:before {content: \"▾\";}#sk-container-id-1 div.sk-estimator input.sk-toggleable__control:checked~label.sk-toggleable__label {background-color: #d4ebff;}#sk-container-id-1 div.sk-label input.sk-toggleable__control:checked~label.sk-toggleable__label {background-color: #d4ebff;}#sk-container-id-1 input.sk-hidden--visually {border: 0;clip: rect(1px 1px 1px 1px);clip: rect(1px, 1px, 1px, 1px);height: 1px;margin: -1px;overflow: hidden;padding: 0;position: absolute;width: 1px;}#sk-container-id-1 div.sk-estimator {font-family: monospace;background-color: #f0f8ff;border: 1px dotted black;border-radius: 0.25em;box-sizing: border-box;margin-bottom: 0.5em;}#sk-container-id-1 div.sk-estimator:hover {background-color: #d4ebff;}#sk-container-id-1 div.sk-parallel-item::after {content: \"\";width: 100%;border-bottom: 1px solid gray;flex-grow: 1;}#sk-container-id-1 div.sk-label:hover label.sk-toggleable__label {background-color: #d4ebff;}#sk-container-id-1 div.sk-serial::before {content: \"\";position: absolute;border-left: 1px solid gray;box-sizing: border-box;top: 0;bottom: 0;left: 50%;z-index: 0;}#sk-container-id-1 div.sk-serial {display: flex;flex-direction: column;align-items: center;background-color: white;padding-right: 0.2em;padding-left: 0.2em;position: relative;}#sk-container-id-1 div.sk-item {position: relative;z-index: 1;}#sk-container-id-1 div.sk-parallel {display: flex;align-items: stretch;justify-content: center;background-color: white;position: relative;}#sk-container-id-1 div.sk-item::before, #sk-container-id-1 div.sk-parallel-item::before {content: \"\";position: absolute;border-left: 1px solid gray;box-sizing: border-box;top: 0;bottom: 0;left: 50%;z-index: -1;}#sk-container-id-1 div.sk-parallel-item {display: flex;flex-direction: column;z-index: 1;position: relative;background-color: white;}#sk-container-id-1 div.sk-parallel-item:first-child::after {align-self: flex-end;width: 50%;}#sk-container-id-1 div.sk-parallel-item:last-child::after {align-self: flex-start;width: 50%;}#sk-container-id-1 div.sk-parallel-item:only-child::after {width: 0;}#sk-container-id-1 div.sk-dashed-wrapped {border: 1px dashed gray;margin: 0 0.4em 0.5em 0.4em;box-sizing: border-box;padding-bottom: 0.4em;background-color: white;}#sk-container-id-1 div.sk-label label {font-family: monospace;font-weight: bold;display: inline-block;line-height: 1.2em;}#sk-container-id-1 div.sk-label-container {text-align: center;}#sk-container-id-1 div.sk-container {/* jupyter's `normalize.less` sets `[hidden] { display: none; }` but bootstrap.min.css set `[hidden] { display: none !important; }` so we also need the `!important` here to be able to override the default hidden behavior on the sphinx rendered scikit-learn.org. See: https://github.com/scikit-learn/scikit-learn/issues/21755 */display: inline-block !important;position: relative;}#sk-container-id-1 div.sk-text-repr-fallback {display: none;}</style><div id=\"sk-container-id-1\" class=\"sk-top-container\"><div class=\"sk-text-repr-fallback\"><pre>LogisticRegression(random_state=11)</pre><b>In a Jupyter environment, please rerun this cell to show the HTML representation or trust the notebook. <br />On GitHub, the HTML representation is unable to render, please try loading this page with nbviewer.org.</b></div><div class=\"sk-container\" hidden><div class=\"sk-item\"><div class=\"sk-estimator sk-toggleable\"><input class=\"sk-toggleable__control sk-hidden--visually\" id=\"sk-estimator-id-1\" type=\"checkbox\" checked><label for=\"sk-estimator-id-1\" class=\"sk-toggleable__label sk-toggleable__label-arrow\">LogisticRegression</label><div class=\"sk-toggleable__content\"><pre>LogisticRegression(random_state=11)</pre></div></div></div></div></div>"
            ]
          },
          "metadata": {},
          "execution_count": 15
        }
      ],
      "source": [
        "clf = LogisticRegression(random_state=RANDOM_STATE)\n",
        "clf.fit(X[train_ids], y_binary[train_ids])"
      ]
    },
    {
      "cell_type": "markdown",
      "id": "deeb461e",
      "metadata": {
        "id": "deeb461e"
      },
      "source": [
        "Знайдемо передбачення. Можемо знайти у вигляді міток класів (метод `predict`), а можемо - у вигляді ймовірності приналежності екземпляра до позитивного класу (метод `predict_proba`). Для початку скористаємося першим методом."
      ]
    },
    {
      "cell_type": "markdown",
      "id": "fe7ca2ba",
      "metadata": {
        "id": "fe7ca2ba"
      },
      "source": [
        "Передбачення знайдемо відразу на всьому наборі даних, а потім фільтруємо за індексами."
      ]
    },
    {
      "cell_type": "code",
      "execution_count": null,
      "id": "091a3fb2",
      "metadata": {
        "ExecuteTime": {
          "end_time": "2022-01-22T16:05:07.031471Z",
          "start_time": "2022-01-22T16:05:07.028912Z"
        },
        "id": "091a3fb2"
      },
      "outputs": [],
      "source": [
        "y_pred = clf.predict(X)"
      ]
    },
    {
      "cell_type": "code",
      "execution_count": null,
      "id": "964258f8",
      "metadata": {
        "ExecuteTime": {
          "end_time": "2022-01-22T16:05:07.640473Z",
          "start_time": "2022-01-22T16:05:07.636443Z"
        },
        "scrolled": true,
        "id": "964258f8",
        "outputId": "0129aa39-bee7-4281-b57a-9ebdae7d8017",
        "colab": {
          "base_uri": "https://localhost:8080/"
        }
      },
      "outputs": [
        {
          "output_type": "execute_result",
          "data": {
            "text/plain": [
              "array([0, 0, 0, 0, 0, 0, 0, 0, 0, 0, 0, 0, 0, 0, 0, 0, 0, 0, 0, 0, 0, 0,\n",
              "       0, 0, 0, 0, 0, 0, 0, 0, 0, 0, 0, 0, 0, 0, 0, 0, 0, 0, 0, 1, 0, 0,\n",
              "       0, 0, 0, 0, 0, 0, 0, 0, 0, 1, 0, 0, 0, 1, 0, 0, 1, 0, 1, 0, 0, 0,\n",
              "       0, 1, 1, 1, 0, 0, 1, 1, 0, 0, 0, 0, 0, 1, 1, 1, 0, 1, 0, 0, 0, 1,\n",
              "       0, 1, 1, 0, 1, 1, 0, 0, 0, 0, 1, 0])"
            ]
          },
          "metadata": {},
          "execution_count": 17
        }
      ],
      "source": [
        "y_pred[:100]"
      ]
    },
    {
      "cell_type": "markdown",
      "id": "0d0155dc",
      "metadata": {
        "id": "0d0155dc"
      },
      "source": [
        "## Підрахунок метрик"
      ]
    },
    {
      "cell_type": "markdown",
      "id": "f3a5276d",
      "metadata": {
        "id": "f3a5276d"
      },
      "source": [
        "Імпортуємо всі необхідні функції для підрахунку метрик, розберемо їх нижче."
      ]
    },
    {
      "cell_type": "code",
      "execution_count": null,
      "id": "84bffde3",
      "metadata": {
        "ExecuteTime": {
          "end_time": "2022-01-22T16:05:44.891875Z",
          "start_time": "2022-01-22T16:05:44.889364Z"
        },
        "id": "84bffde3"
      },
      "outputs": [],
      "source": [
        "from sklearn.metrics import (precision_score,\n",
        "                             recall_score,\n",
        "                             f1_score,\n",
        "                             confusion_matrix,\n",
        "                             classification_report,\n",
        "                             ConfusionMatrixDisplay)"
      ]
    },
    {
      "cell_type": "markdown",
      "id": "affdd41a",
      "metadata": {
        "id": "affdd41a"
      },
      "source": [
        "Знайдемо матрицю невідповідностей (Confusion matrix):"
      ]
    },
    {
      "cell_type": "code",
      "execution_count": null,
      "id": "e2d31fe9",
      "metadata": {
        "ExecuteTime": {
          "end_time": "2022-01-22T16:05:46.150583Z",
          "start_time": "2022-01-22T16:05:46.145726Z"
        },
        "id": "e2d31fe9",
        "outputId": "755be701-883f-46db-c718-082863cbdf39",
        "colab": {
          "base_uri": "https://localhost:8080/"
        }
      },
      "outputs": [
        {
          "output_type": "execute_result",
          "data": {
            "text/plain": [
              "array([[29,  1],\n",
              "       [11,  4]])"
            ]
          },
          "metadata": {},
          "execution_count": 19
        }
      ],
      "source": [
        "cm = confusion_matrix(y_binary[test_ids], y_pred[test_ids])\n",
        "cm"
      ]
    },
    {
      "cell_type": "markdown",
      "id": "cfa3837a",
      "metadata": {
        "id": "cfa3837a"
      },
      "source": [
        "По **вертикалі** у нас значення **справжньої** мітки класу, а по **горизонталі** - **передбаченої**.\n",
        "Якщо забули - завжди можна знайти підказку у документації методу`confusion_matrix`:\n",
        "```\n",
        "Returns\n",
        "-------\n",
        "C : ndarray of shape (n_classes, n_classes)\n",
        "    Confusion matrix whose i-th row and j-th\n",
        "    column entry indicates the number of\n",
        "    samples with true label being i-th class\n",
        "    and predicted label being j-th class.\n",
        "```"
      ]
    },
    {
      "cell_type": "markdown",
      "id": "b5bb88f2",
      "metadata": {
        "id": "b5bb88f2"
      },
      "source": [
        "Для відображення матриці візуально скористаємося методом`ConfusionMatrixDisplay`."
      ]
    },
    {
      "cell_type": "code",
      "execution_count": null,
      "id": "6ef1083b",
      "metadata": {
        "ExecuteTime": {
          "end_time": "2022-01-22T16:05:48.761735Z",
          "start_time": "2022-01-22T16:05:48.632727Z"
        },
        "id": "6ef1083b",
        "outputId": "b60c349a-98f7-45a1-bcc0-2daf5397f7a0",
        "colab": {
          "base_uri": "https://localhost:8080/",
          "height": 449
        }
      },
      "outputs": [
        {
          "output_type": "display_data",
          "data": {
            "text/plain": [
              "<Figure size 640x480 with 2 Axes>"
            ],
            "image/png": "[encoded data removed]"
          },
          "metadata": {}
        }
      ],
      "source": [
        "disp = ConfusionMatrixDisplay(confusion_matrix=cm,\n",
        "                              display_labels=clf.classes_)\n",
        "disp.plot()\n",
        "\n",
        "plt.show();"
      ]
    },
    {
      "cell_type": "markdown",
      "id": "f7ba5cac",
      "metadata": {
        "id": "f7ba5cac"
      },
      "source": [
        "Метрики знаходимо викликом функцій:"
      ]
    },
    {
      "cell_type": "code",
      "execution_count": null,
      "id": "a940b55b",
      "metadata": {
        "ExecuteTime": {
          "end_time": "2022-01-22T16:05:50.010642Z",
          "start_time": "2022-01-22T16:05:50.004960Z"
        },
        "id": "a940b55b",
        "outputId": "a4076d32-d9a7-4551-c5a1-f740b5d394d1",
        "colab": {
          "base_uri": "https://localhost:8080/"
        }
      },
      "outputs": [
        {
          "output_type": "execute_result",
          "data": {
            "text/plain": [
              "0.652"
            ]
          },
          "metadata": {},
          "execution_count": 21
        }
      ],
      "source": [
        "precision_score(y_binary[train_ids], y_pred[train_ids]).round(3)"
      ]
    },
    {
      "cell_type": "markdown",
      "id": "99f54e09",
      "metadata": {
        "id": "99f54e09"
      },
      "source": [
        "У метрик precision, recall, f1 однаковий інтерфейс, тому можемо задавати метрики списком і підраховувати їх у циклі."
      ]
    },
    {
      "cell_type": "markdown",
      "source": [
        "$PRECISION = \\frac{TP}{TP + FP}$\n",
        "\n",
        "$RECALL = \\frac{TP}{TP + FN}$"
      ],
      "metadata": {
        "id": "QlBRGzHNZsAW"
      },
      "id": "QlBRGzHNZsAW"
    },
    {
      "cell_type": "code",
      "execution_count": null,
      "id": "e5a46101",
      "metadata": {
        "ExecuteTime": {
          "end_time": "2022-01-22T16:05:53.054015Z",
          "start_time": "2022-01-22T16:05:53.051643Z"
        },
        "id": "e5a46101"
      },
      "outputs": [],
      "source": [
        "metrics = [precision_score, recall_score, f1_score]"
      ]
    },
    {
      "cell_type": "code",
      "execution_count": null,
      "id": "625825b4",
      "metadata": {
        "ExecuteTime": {
          "end_time": "2022-01-22T16:05:53.362446Z",
          "start_time": "2022-01-22T16:05:53.349753Z"
        },
        "id": "625825b4",
        "outputId": "c86a9d82-a964-43ac-e0a0-aff6fc21ac8c",
        "colab": {
          "base_uri": "https://localhost:8080/"
        }
      },
      "outputs": [
        {
          "output_type": "stream",
          "name": "stdout",
          "text": [
            "train\n",
            "precision_score 0.652\n",
            "recall_score 0.429\n",
            "f1_score 0.517\n",
            "\n",
            "\n",
            "test\n",
            "precision_score 0.8\n",
            "recall_score 0.267\n",
            "f1_score 0.4\n",
            "\n",
            "\n"
          ]
        }
      ],
      "source": [
        "for dataset_name, dataset_ids in {'train': train_ids, 'test': test_ids}.items():\n",
        "    print(dataset_name)\n",
        "    for metric in metrics:\n",
        "        print(metric.__name__, metric(y_binary[dataset_ids], y_pred[dataset_ids]).round(3))\n",
        "    print('\\n')"
      ]
    },
    {
      "cell_type": "markdown",
      "id": "8651f727",
      "metadata": {
        "id": "8651f727"
      },
      "source": [
        "Також сам класифікатор має `score` - це accuracy."
      ]
    },
    {
      "cell_type": "code",
      "execution_count": null,
      "id": "19dd97e0",
      "metadata": {
        "ExecuteTime": {
          "end_time": "2022-01-22T16:05:54.204435Z",
          "start_time": "2022-01-22T16:05:54.200103Z"
        },
        "id": "19dd97e0",
        "outputId": "48d8610c-06d5-453f-9a28-2c73b480ea12",
        "colab": {
          "base_uri": "https://localhost:8080/"
        }
      },
      "outputs": [
        {
          "output_type": "execute_result",
          "data": {
            "text/plain": [
              "0.4533333333333333"
            ]
          },
          "metadata": {},
          "execution_count": 24
        }
      ],
      "source": [
        "clf.score(X, y)"
      ]
    },
    {
      "cell_type": "markdown",
      "id": "7c34d65f",
      "metadata": {
        "id": "7c34d65f"
      },
      "source": [
        "Є можливість вивести кілька метрик однією функцією:"
      ]
    },
    {
      "cell_type": "code",
      "execution_count": null,
      "id": "453cd0ec",
      "metadata": {
        "ExecuteTime": {
          "end_time": "2022-01-22T16:05:54.607662Z",
          "start_time": "2022-01-22T16:05:54.595872Z"
        },
        "id": "453cd0ec",
        "outputId": "d6c0241f-7f7d-49b1-a2fb-f283d3d838bd",
        "colab": {
          "base_uri": "https://localhost:8080/"
        }
      },
      "outputs": [
        {
          "output_type": "stream",
          "name": "stdout",
          "text": [
            "              precision    recall  f1-score   support\n",
            "\n",
            "           0       0.76      0.89      0.82        70\n",
            "           1       0.65      0.43      0.52        35\n",
            "\n",
            "    accuracy                           0.73       105\n",
            "   macro avg       0.70      0.66      0.67       105\n",
            "weighted avg       0.72      0.73      0.72       105\n",
            "\n",
            "              precision    recall  f1-score   support\n",
            "\n",
            "           0       0.72      0.97      0.83        30\n",
            "           1       0.80      0.27      0.40        15\n",
            "\n",
            "    accuracy                           0.73        45\n",
            "   macro avg       0.76      0.62      0.61        45\n",
            "weighted avg       0.75      0.73      0.69        45\n",
            "\n"
          ]
        }
      ],
      "source": [
        "for dataset_ids in [train_ids, test_ids]:\n",
        "    print(classification_report(y_binary[dataset_ids], y_pred[dataset_ids]))"
      ]
    },
    {
      "cell_type": "markdown",
      "id": "0f4ebf5f",
      "metadata": {
        "id": "0f4ebf5f"
      },
      "source": [
        "Вибір метрики залежить від завдання. Якщо не знаємо, який результат нам більш пріоритетно уникати: хибнопозитивний або хибнонегативний, використовуємо F1."
      ]
    },
    {
      "cell_type": "markdown",
      "id": "80f86374",
      "metadata": {
        "id": "80f86374"
      },
      "source": [
        "Тоді в таблиці нас цікавить значення f1-score для класу 1 для тренувальних та тестових даних."
      ]
    },
    {
      "cell_type": "markdown",
      "id": "1d8819e9",
      "metadata": {
        "id": "1d8819e9"
      },
      "source": [
        "## Поріг класифікації"
      ]
    },
    {
      "cell_type": "markdown",
      "id": "28707eb5",
      "metadata": {
        "id": "28707eb5"
      },
      "source": [
        "Якщо хочемо встановити свій поріг визначення класів 1 і 0, то передбачення треба отримувати методом `predict_proba`."
      ]
    },
    {
      "cell_type": "code",
      "execution_count": null,
      "id": "066e844b",
      "metadata": {
        "ExecuteTime": {
          "end_time": "2022-01-22T16:05:58.867526Z",
          "start_time": "2022-01-22T16:05:58.864989Z"
        },
        "id": "066e844b"
      },
      "outputs": [],
      "source": [
        "y_pred_prob = clf.predict_proba(X)"
      ]
    },
    {
      "cell_type": "markdown",
      "id": "bcd23d87",
      "metadata": {
        "id": "bcd23d87"
      },
      "source": [
        "Метод повертає кілька колонок: ймовірність приналежності екземпляра кожному класу."
      ]
    },
    {
      "cell_type": "code",
      "execution_count": null,
      "id": "c8df5ec6",
      "metadata": {
        "ExecuteTime": {
          "end_time": "2022-01-22T16:06:20.669915Z",
          "start_time": "2022-01-22T16:06:20.666007Z"
        },
        "id": "c8df5ec6",
        "outputId": "e6e8cfe2-50f5-4186-a631-06e871369d5c",
        "colab": {
          "base_uri": "https://localhost:8080/"
        }
      },
      "outputs": [
        {
          "output_type": "execute_result",
          "data": {
            "text/plain": [
              "array([[0.87062397, 0.12937603],\n",
              "       [0.70685516, 0.29314484],\n",
              "       [0.78649679, 0.21350321],\n",
              "       [0.73016414, 0.26983586],\n",
              "       [0.89036045, 0.10963955]])"
            ]
          },
          "metadata": {},
          "execution_count": 27
        }
      ],
      "source": [
        "y_pred_prob[:5]"
      ]
    },
    {
      "cell_type": "markdown",
      "id": "a4c8441f",
      "metadata": {
        "id": "a4c8441f"
      },
      "source": [
        "Перевіримо, що у кожному рядку сума 1."
      ]
    },
    {
      "cell_type": "code",
      "execution_count": null,
      "id": "acaef0d0",
      "metadata": {
        "ExecuteTime": {
          "end_time": "2022-01-22T16:06:25.214677Z",
          "start_time": "2022-01-22T16:06:25.210595Z"
        },
        "id": "acaef0d0",
        "outputId": "d76b8d75-b7c5-4695-b2df-6b2b92427ba9",
        "colab": {
          "base_uri": "https://localhost:8080/"
        }
      },
      "outputs": [
        {
          "output_type": "execute_result",
          "data": {
            "text/plain": [
              "True"
            ]
          },
          "metadata": {},
          "execution_count": 28
        }
      ],
      "source": [
        "np.all(y_pred_prob.sum(axis=1)==1)"
      ]
    },
    {
      "cell_type": "markdown",
      "id": "5f947b87",
      "metadata": {
        "id": "5f947b87"
      },
      "source": [
        "Подивимося, як розподілені передбачені значення. Це може допомогти знайти оптимальний поріг для визначення позитивних і негативних міток."
      ]
    },
    {
      "cell_type": "code",
      "execution_count": null,
      "id": "500bb6d4",
      "metadata": {
        "ExecuteTime": {
          "end_time": "2022-01-22T16:06:26.490043Z",
          "start_time": "2022-01-22T16:06:26.341021Z"
        },
        "id": "500bb6d4",
        "outputId": "3ca5c8e1-92a7-4130-94d5-bb6f9c013d07",
        "colab": {
          "base_uri": "https://localhost:8080/",
          "height": 430
        }
      },
      "outputs": [
        {
          "output_type": "display_data",
          "data": {
            "text/plain": [
              "<Figure size 640x480 with 1 Axes>"
            ],
            "image/png": "[encoded data removed]"
          },
          "metadata": {}
        }
      ],
      "source": [
        "sns.histplot(y_pred_prob[:,1], bins=30, kde=True);"
      ]
    },
    {
      "cell_type": "code",
      "execution_count": null,
      "id": "da37c2c5",
      "metadata": {
        "ExecuteTime": {
          "end_time": "2022-01-22T16:06:50.921034Z",
          "start_time": "2022-01-22T16:06:50.914837Z"
        },
        "id": "da37c2c5"
      },
      "outputs": [],
      "source": [
        "THRESHOLD = 0.3"
      ]
    },
    {
      "cell_type": "code",
      "execution_count": null,
      "id": "46b215c4",
      "metadata": {
        "ExecuteTime": {
          "end_time": "2022-01-22T16:07:18.975367Z",
          "start_time": "2022-01-22T16:07:18.972628Z"
        },
        "id": "46b215c4"
      },
      "outputs": [],
      "source": [
        "y_pred = np.where(y_pred_prob[:,1] >= THRESHOLD, 1, 0)"
      ]
    },
    {
      "cell_type": "markdown",
      "id": "03b9e4a8",
      "metadata": {
        "id": "03b9e4a8"
      },
      "source": [
        "Знайдемо метрики:"
      ]
    },
    {
      "cell_type": "code",
      "execution_count": null,
      "id": "19108df1",
      "metadata": {
        "ExecuteTime": {
          "end_time": "2022-01-22T16:07:44.468991Z",
          "start_time": "2022-01-22T16:07:44.457265Z"
        },
        "id": "19108df1",
        "outputId": "8c9c97ab-0958-4aeb-fd9e-f45ab6b774a7",
        "colab": {
          "base_uri": "https://localhost:8080/"
        }
      },
      "outputs": [
        {
          "output_type": "stream",
          "name": "stdout",
          "text": [
            "              precision    recall  f1-score   support\n",
            "\n",
            "           0       0.94      0.66      0.77        70\n",
            "           1       0.57      0.91      0.70        35\n",
            "\n",
            "    accuracy                           0.74       105\n",
            "   macro avg       0.76      0.79      0.74       105\n",
            "weighted avg       0.82      0.74      0.75       105\n",
            "\n",
            "              precision    recall  f1-score   support\n",
            "\n",
            "           0       0.83      0.63      0.72        30\n",
            "           1       0.50      0.73      0.59        15\n",
            "\n",
            "    accuracy                           0.67        45\n",
            "   macro avg       0.66      0.68      0.66        45\n",
            "weighted avg       0.72      0.67      0.68        45\n",
            "\n"
          ]
        }
      ],
      "source": [
        "for dataset_ids in [train_ids, test_ids]:\n",
        "    print(classification_report(y_binary[dataset_ids], y_pred[dataset_ids]))"
      ]
    },
    {
      "cell_type": "markdown",
      "id": "9b82f009",
      "metadata": {
        "id": "9b82f009"
      },
      "source": [
        "Значення f1-score для класу 1 і для тренувальних, і для тестових даних покращилося, отже ми вибрали вдалий поріг класифікації у випадку, якщо нам важливіше вірно класифікувати саме клас 1"
      ]
    },
    {
      "cell_type": "markdown",
      "id": "e6713abd",
      "metadata": {
        "id": "e6713abd"
      },
      "source": [
        "### ROC curve"
      ]
    },
    {
      "cell_type": "markdown",
      "id": "1d35dffd",
      "metadata": {
        "id": "1d35dffd"
      },
      "source": [
        "Для позитивного класу знайдемо ROC криву та площу під нею."
      ]
    },
    {
      "cell_type": "code",
      "execution_count": null,
      "id": "3bf2fef4",
      "metadata": {
        "ExecuteTime": {
          "end_time": "2022-01-23T12:29:18.915812Z",
          "start_time": "2022-01-23T12:29:18.911391Z"
        },
        "id": "3bf2fef4"
      },
      "outputs": [],
      "source": [
        "from sklearn.metrics import roc_curve, auc\n",
        "\n",
        "fpr, tpr, _ = roc_curve(y_binary[test_ids], y_pred_prob[test_ids][:, 1])\n",
        "roc_auc = auc(fpr, tpr)"
      ]
    },
    {
      "cell_type": "code",
      "execution_count": null,
      "id": "6fdcddcc",
      "metadata": {
        "ExecuteTime": {
          "end_time": "2022-01-23T12:31:22.723754Z",
          "start_time": "2022-01-23T12:31:22.716605Z"
        },
        "id": "6fdcddcc"
      },
      "outputs": [],
      "source": [
        "def plot_roc(fpr, tpr, roc_auc):\n",
        "    plt.figure()\n",
        "    lw = 2 # linewidth - ширина линии на графике\n",
        "    plt.plot(\n",
        "        fpr,\n",
        "        tpr,\n",
        "        color=\"darkorange\",\n",
        "        lw=lw,\n",
        "        label=\"ROC curve (area = %0.2f)\" % roc_auc,\n",
        "    )\n",
        "    plt.plot([0, 1], [0, 1], color=\"navy\", lw=lw, linestyle=\"--\")\n",
        "    plt.xlim([0.0, 1.0])\n",
        "    plt.ylim([0.0, 1.05])\n",
        "    plt.xlabel(\"False Positive Rate\")\n",
        "    plt.ylabel(\"True Positive Rate\")\n",
        "    plt.title(\"Receiver operating characteristic example\")\n",
        "    plt.legend(loc=\"lower right\")\n",
        "    plt.show()"
      ]
    },
    {
      "cell_type": "code",
      "execution_count": null,
      "id": "03514155",
      "metadata": {
        "ExecuteTime": {
          "end_time": "2022-01-23T12:31:29.089560Z",
          "start_time": "2022-01-23T12:31:28.976070Z"
        },
        "id": "03514155",
        "outputId": "ec3c9d6d-c03d-4847-d4a3-632322edf2f2",
        "colab": {
          "base_uri": "https://localhost:8080/",
          "height": 472
        }
      },
      "outputs": [
        {
          "output_type": "display_data",
          "data": {
            "text/plain": [
              "<Figure size 640x480 with 1 Axes>"
            ],
            "image/png": "[encoded data removed]"
          },
          "metadata": {}
        }
      ],
      "source": [
        "plot_roc(fpr, tpr, roc_auc)"
      ]
    },
    {
      "cell_type": "markdown",
      "id": "5c7ca69d",
      "metadata": {
        "id": "5c7ca69d"
      },
      "source": [
        "## Мультикласова класифікація"
      ]
    },
    {
      "cell_type": "markdown",
      "id": "aa3ed6df",
      "metadata": {
        "ExecuteTime": {
          "end_time": "2022-01-23T12:30:27.407174Z",
          "start_time": "2022-01-23T12:30:27.403105Z"
        },
        "id": "aa3ed6df"
      },
      "source": [
        "Використовуємо оригінальний таргет та побудуємо мультикласову класифікацію."
      ]
    },
    {
      "cell_type": "code",
      "execution_count": null,
      "id": "23b06ca6",
      "metadata": {
        "ExecuteTime": {
          "end_time": "2022-01-23T12:33:43.558712Z",
          "start_time": "2022-01-23T12:33:43.530793Z"
        },
        "id": "23b06ca6",
        "outputId": "4566e574-ac6b-497c-850e-b26b8a9f3f0e",
        "colab": {
          "base_uri": "https://localhost:8080/",
          "height": 75
        }
      },
      "outputs": [
        {
          "output_type": "execute_result",
          "data": {
            "text/plain": [
              "LogisticRegression(multi_class='ovr', random_state=11)"
            ],
            "text/html": [
              "<style>#sk-container-id-2 {color: black;background-color: white;}#sk-container-id-2 pre{padding: 0;}#sk-container-id-2 div.sk-toggleable {background-color: white;}#sk-container-id-2 label.sk-toggleable__label {cursor: pointer;display: block;width: 100%;margin-bottom: 0;padding: 0.3em;box-sizing: border-box;text-align: center;}#sk-container-id-2 label.sk-toggleable__label-arrow:before {content: \"▸\";float: left;margin-right: 0.25em;color: #696969;}#sk-container-id-2 label.sk-toggleable__label-arrow:hover:before {color: black;}#sk-container-id-2 div.sk-estimator:hover label.sk-toggleable__label-arrow:before {color: black;}#sk-container-id-2 div.sk-toggleable__content {max-height: 0;max-width: 0;overflow: hidden;text-align: left;background-color: #f0f8ff;}#sk-container-id-2 div.sk-toggleable__content pre {margin: 0.2em;color: black;border-radius: 0.25em;background-color: #f0f8ff;}#sk-container-id-2 input.sk-toggleable__control:checked~div.sk-toggleable__content {max-height: 200px;max-width: 100%;overflow: auto;}#sk-container-id-2 input.sk-toggleable__control:checked~label.sk-toggleable__label-arrow:before {content: \"▾\";}#sk-container-id-2 div.sk-estimator input.sk-toggleable__control:checked~label.sk-toggleable__label {background-color: #d4ebff;}#sk-container-id-2 div.sk-label input.sk-toggleable__control:checked~label.sk-toggleable__label {background-color: #d4ebff;}#sk-container-id-2 input.sk-hidden--visually {border: 0;clip: rect(1px 1px 1px 1px);clip: rect(1px, 1px, 1px, 1px);height: 1px;margin: -1px;overflow: hidden;padding: 0;position: absolute;width: 1px;}#sk-container-id-2 div.sk-estimator {font-family: monospace;background-color: #f0f8ff;border: 1px dotted black;border-radius: 0.25em;box-sizing: border-box;margin-bottom: 0.5em;}#sk-container-id-2 div.sk-estimator:hover {background-color: #d4ebff;}#sk-container-id-2 div.sk-parallel-item::after {content: \"\";width: 100%;border-bottom: 1px solid gray;flex-grow: 1;}#sk-container-id-2 div.sk-label:hover label.sk-toggleable__label {background-color: #d4ebff;}#sk-container-id-2 div.sk-serial::before {content: \"\";position: absolute;border-left: 1px solid gray;box-sizing: border-box;top: 0;bottom: 0;left: 50%;z-index: 0;}#sk-container-id-2 div.sk-serial {display: flex;flex-direction: column;align-items: center;background-color: white;padding-right: 0.2em;padding-left: 0.2em;position: relative;}#sk-container-id-2 div.sk-item {position: relative;z-index: 1;}#sk-container-id-2 div.sk-parallel {display: flex;align-items: stretch;justify-content: center;background-color: white;position: relative;}#sk-container-id-2 div.sk-item::before, #sk-container-id-2 div.sk-parallel-item::before {content: \"\";position: absolute;border-left: 1px solid gray;box-sizing: border-box;top: 0;bottom: 0;left: 50%;z-index: -1;}#sk-container-id-2 div.sk-parallel-item {display: flex;flex-direction: column;z-index: 1;position: relative;background-color: white;}#sk-container-id-2 div.sk-parallel-item:first-child::after {align-self: flex-end;width: 50%;}#sk-container-id-2 div.sk-parallel-item:last-child::after {align-self: flex-start;width: 50%;}#sk-container-id-2 div.sk-parallel-item:only-child::after {width: 0;}#sk-container-id-2 div.sk-dashed-wrapped {border: 1px dashed gray;margin: 0 0.4em 0.5em 0.4em;box-sizing: border-box;padding-bottom: 0.4em;background-color: white;}#sk-container-id-2 div.sk-label label {font-family: monospace;font-weight: bold;display: inline-block;line-height: 1.2em;}#sk-container-id-2 div.sk-label-container {text-align: center;}#sk-container-id-2 div.sk-container {/* jupyter's `normalize.less` sets `[hidden] { display: none; }` but bootstrap.min.css set `[hidden] { display: none !important; }` so we also need the `!important` here to be able to override the default hidden behavior on the sphinx rendered scikit-learn.org. See: https://github.com/scikit-learn/scikit-learn/issues/21755 */display: inline-block !important;position: relative;}#sk-container-id-2 div.sk-text-repr-fallback {display: none;}</style><div id=\"sk-container-id-2\" class=\"sk-top-container\"><div class=\"sk-text-repr-fallback\"><pre>LogisticRegression(multi_class=&#x27;ovr&#x27;, random_state=11)</pre><b>In a Jupyter environment, please rerun this cell to show the HTML representation or trust the notebook. <br />On GitHub, the HTML representation is unable to render, please try loading this page with nbviewer.org.</b></div><div class=\"sk-container\" hidden><div class=\"sk-item\"><div class=\"sk-estimator sk-toggleable\"><input class=\"sk-toggleable__control sk-hidden--visually\" id=\"sk-estimator-id-2\" type=\"checkbox\" checked><label for=\"sk-estimator-id-2\" class=\"sk-toggleable__label sk-toggleable__label-arrow\">LogisticRegression</label><div class=\"sk-toggleable__content\"><pre>LogisticRegression(multi_class=&#x27;ovr&#x27;, random_state=11)</pre></div></div></div></div></div>"
            ]
          },
          "metadata": {},
          "execution_count": 36
        }
      ],
      "source": [
        "clf = LogisticRegression(random_state=RANDOM_STATE, multi_class='ovr')\n",
        "clf.fit(X[train_ids], y[train_ids])"
      ]
    },
    {
      "cell_type": "code",
      "execution_count": null,
      "id": "357bc62d",
      "metadata": {
        "ExecuteTime": {
          "end_time": "2022-01-23T12:33:57.675605Z",
          "start_time": "2022-01-23T12:33:57.672066Z"
        },
        "id": "357bc62d"
      },
      "outputs": [],
      "source": [
        "y_pred = clf.predict(X)\n",
        "y_pred_prob = clf.predict_proba(X)\n",
        "score = clf.score(X, y)"
      ]
    },
    {
      "cell_type": "markdown",
      "id": "047c5261",
      "metadata": {
        "id": "047c5261"
      },
      "source": [
        "Виведемо класифікаційний звіт:"
      ]
    },
    {
      "cell_type": "code",
      "execution_count": null,
      "id": "43361bea",
      "metadata": {
        "ExecuteTime": {
          "end_time": "2022-01-23T12:34:10.671592Z",
          "start_time": "2022-01-23T12:34:10.659401Z"
        },
        "id": "43361bea",
        "outputId": "f60f08bd-bc8e-4714-f00f-70ea1135c1ac",
        "colab": {
          "base_uri": "https://localhost:8080/"
        }
      },
      "outputs": [
        {
          "output_type": "stream",
          "name": "stdout",
          "text": [
            "              precision    recall  f1-score   support\n",
            "\n",
            "           0       1.00      1.00      1.00        34\n",
            "           1       0.94      0.89      0.91        35\n",
            "           2       0.89      0.94      0.92        36\n",
            "\n",
            "    accuracy                           0.94       105\n",
            "   macro avg       0.94      0.94      0.94       105\n",
            "weighted avg       0.94      0.94      0.94       105\n",
            "\n",
            "              precision    recall  f1-score   support\n",
            "\n",
            "           0       1.00      1.00      1.00        16\n",
            "           1       1.00      0.87      0.93        15\n",
            "           2       0.88      1.00      0.93        14\n",
            "\n",
            "    accuracy                           0.96        45\n",
            "   macro avg       0.96      0.96      0.95        45\n",
            "weighted avg       0.96      0.96      0.96        45\n",
            "\n"
          ]
        }
      ],
      "source": [
        "for dataset_ids in [train_ids, test_ids]:\n",
        "    print(classification_report(y[dataset_ids], y_pred[dataset_ids]))"
      ]
    },
    {
      "cell_type": "markdown",
      "id": "b62d422a",
      "metadata": {
        "id": "b62d422a"
      },
      "source": [
        "Можемо також за підрахунком окремих метрик (precision, recall, f1) задавати бажане усереднення."
      ]
    },
    {
      "cell_type": "code",
      "execution_count": null,
      "id": "c0b199e6",
      "metadata": {
        "ExecuteTime": {
          "end_time": "2022-01-23T12:34:38.601600Z",
          "start_time": "2022-01-23T12:34:38.595886Z"
        },
        "id": "c0b199e6",
        "outputId": "b732f5fa-df88-4b75-b222-8ad50cbd06c8",
        "colab": {
          "base_uri": "https://localhost:8080/"
        }
      },
      "outputs": [
        {
          "output_type": "execute_result",
          "data": {
            "text/plain": [
              "0.9583333333333334"
            ]
          },
          "metadata": {},
          "execution_count": 39
        }
      ],
      "source": [
        "precision_score(y[test_ids], y_pred[test_ids], average='macro')"
      ]
    },
    {
      "cell_type": "code",
      "execution_count": null,
      "id": "fa42213c",
      "metadata": {
        "ExecuteTime": {
          "end_time": "2022-01-23T12:34:39.236463Z",
          "start_time": "2022-01-23T12:34:39.231103Z"
        },
        "id": "fa42213c",
        "outputId": "bd50ac4a-3644-4e2a-a9b9-3d3b3ce620f1",
        "colab": {
          "base_uri": "https://localhost:8080/"
        }
      },
      "outputs": [
        {
          "output_type": "execute_result",
          "data": {
            "text/plain": [
              "0.9555555555555556"
            ]
          },
          "metadata": {},
          "execution_count": 40
        }
      ],
      "source": [
        "precision_score(y[test_ids], y_pred[test_ids], average='micro')"
      ]
    }
  ],
  "metadata": {
    "kernelspec": {
      "display_name": "Python 3 (ipykernel)",
      "language": "python",
      "name": "python3"
    },
    "language_info": {
      "codemirror_mode": {
        "name": "ipython",
        "version": 3
      },
      "file_extension": ".py",
      "mimetype": "text/x-python",
      "name": "python",
      "nbconvert_exporter": "python",
      "pygments_lexer": "ipython3",
      "version": "3.9.7"
    },
    "toc": {
      "base_numbering": 1,
      "nav_menu": {},
      "number_sections": true,
      "sideBar": true,
      "skip_h1_title": false,
      "title_cell": "Table of Contents",
      "title_sidebar": "Contents",
      "toc_cell": false,
      "toc_position": {},
      "toc_section_display": true,
      "toc_window_display": false
    },
    "colab": {
      "provenance": [],
      "include_colab_link": true
    }
  },
  "nbformat": 4,
  "nbformat_minor": 5
}